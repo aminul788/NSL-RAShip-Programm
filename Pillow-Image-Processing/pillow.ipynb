{
 "cells": [
  {
   "cell_type": "markdown",
   "metadata": {},
   "source": [
    "## Pillow\n",
    "Pillow is a Python Imaging Library (PIL), which adds support for opening, manipulating, and saving images. The current version identifies and reads a large number of formats. Write support is intentionally restricted to the most commonly used interchange and presentation formats. \n",
    "\n",
    "> Links of Tutorial\n",
    "* <a href=\"https://pillow.readthedocs.io/en/5.1.x/index.html\" target=\"_blank\">Documentation</a>\n",
    "* <a href=\"https://www.tutorialspoint.com/python_pillow/python_pillow_quick_guide.htm\" target=\"_blank\">Tutorialspoint</a>\n",
    "* <a href=\"https://www.youtube.com/playlist?list=PLzwD20l-vO2BuThvyUojr0o1Hp-7-o1jr\" target=\"_blank\">Youtube Tutorial</a>\n",
    "* <a href=\"http://zetcode.com/python/pillow/\" target=\"_blank\">ZetCode Pillow Tutorial</a>"
   ]
  },
  {
   "cell_type": "markdown",
   "metadata": {},
   "source": [
    "## Pillow show images"
   ]
  },
  {
   "cell_type": "code",
   "execution_count": 5,
   "metadata": {},
   "outputs": [],
   "source": [
    "from PIL import Image\n",
    "import sys\n",
    "\n",
    "try:\n",
    "    img = Image.open(\"messi.jpeg\")\n",
    "    \n",
    "except IOError:\n",
    "    print(\"Unable to load image\")\n",
    "    sys.exit(1)\n",
    "\n",
    "img.show()"
   ]
  },
  {
   "cell_type": "markdown",
   "metadata": {},
   "source": [
    "## Basic image information with Pillow\n",
    "Pillow allows us to get some basic information about the image."
   ]
  },
  {
   "cell_type": "code",
   "execution_count": 7,
   "metadata": {},
   "outputs": [
    {
     "name": "stdout",
     "output_type": "stream",
     "text": [
      "Format: JPEG\n",
      "Size  : (416, 416)\n",
      "Mode  : RGB\n"
     ]
    }
   ],
   "source": [
    "from PIL import Image\n",
    "import sys\n",
    "\n",
    "try:\n",
    "    img = Image.open(\"messi.jpeg\")\n",
    "    \n",
    "except IOError:\n",
    "    print(\"Unable to load image\")\n",
    "    sys.exit(1)\n",
    "\n",
    "print(\"Format: {0}\\nSize  : {1}\\nMode  : {2}\".format(img.format, img.size, img.mode))"
   ]
  },
  {
   "cell_type": "markdown",
   "metadata": {},
   "source": [
    "## Pillow blur image\n",
    "The ImageFilter module contains definitions for a pre-defined set of filters, which can be used with the filter() method."
   ]
  },
  {
   "cell_type": "code",
   "execution_count": 10,
   "metadata": {},
   "outputs": [],
   "source": [
    "from PIL import Image, ImageFilter\n",
    "import sys\n",
    "\n",
    "try:\n",
    "    img = Image.open(\"messi.jpeg\")\n",
    "    \n",
    "except IOError:\n",
    "    print(\"Unable to load image\")    \n",
    "    sys.exit(1)\n",
    "\n",
    "blurred = img.filter(ImageFilter.BLUR)\n",
    "# blurred.save(\"blurred.png\")\n",
    "blurred.show()"
   ]
  },
  {
   "cell_type": "markdown",
   "metadata": {},
   "source": [
    "## Converting image with Pillow\n",
    "With the **`save()`** method, we can convert an image to a different format."
   ]
  },
  {
   "cell_type": "code",
   "execution_count": 14,
   "metadata": {},
   "outputs": [],
   "source": [
    "from PIL import Image\n",
    "import sys\n",
    "\n",
    "try:\n",
    "    img = Image.open(\"messi.jpeg\")\n",
    "    \n",
    "except IOError:\n",
    "    print(\"Unable to load image\")    \n",
    "    sys.exit(1)\n",
    "\n",
    "img = img.save('messi1.png','png')"
   ]
  },
  {
   "cell_type": "markdown",
   "metadata": {},
   "source": [
    "## Pillow GrayScale image\n",
    "With the **`Image.convert()`** method, we can produce a black and white image. "
   ]
  },
  {
   "cell_type": "code",
   "execution_count": 17,
   "metadata": {},
   "outputs": [],
   "source": [
    "from PIL import Image\n",
    "import sys\n",
    "\n",
    "try:\n",
    "    img = Image.open(\"messi.jpeg\")\n",
    "    \n",
    "except IOError:\n",
    "    print(\"Unable to load image\")    \n",
    "    sys.exit(1)\n",
    "\n",
    "# The first parameter of the convert() method is the mode;\n",
    "# the 'L' mode is black and white. \n",
    "grayscale = img.convert('L')\n",
    "grayscale.show()"
   ]
  },
  {
   "cell_type": "markdown",
   "metadata": {},
   "source": [
    "## Cropping image with Pillow\n",
    "The **`Image.crop()`** crops the image. "
   ]
  },
  {
   "cell_type": "code",
   "execution_count": 20,
   "metadata": {},
   "outputs": [],
   "source": [
    "from PIL import Image\n",
    "import sys\n",
    "\n",
    "try:\n",
    "    img = Image.open(\"messi.jpeg\")\n",
    "    \n",
    "except IOError:\n",
    "    print(\"Unable to load image\")    \n",
    "    sys.exit(1)\n",
    "    \n",
    "# cropped = img.crop((left, upper, right, lower))\n",
    "cropped = img.crop((100, 100, 350, 350))\n",
    "cropped.save('messi_cropped.jpeg')\n",
    "cropped.show()"
   ]
  },
  {
   "cell_type": "markdown",
   "metadata": {},
   "source": [
    "## Rotating image with Pillow\n",
    "The **`Image.rotate()`** returns a rotated copy of the image. "
   ]
  },
  {
   "cell_type": "code",
   "execution_count": 22,
   "metadata": {},
   "outputs": [],
   "source": [
    "from PIL import Image\n",
    "import sys\n",
    "\n",
    "try:\n",
    "    img = Image.open(\"messi.jpeg\")\n",
    "    \n",
    "except IOError:\n",
    "    print(\"Unable to load image\")    \n",
    "    sys.exit(1)\n",
    "\n",
    "# rotates an image by 45 degrees\n",
    "rotated = img.rotate(45)\n",
    "rotated.show()"
   ]
  },
  {
   "cell_type": "markdown",
   "metadata": {},
   "source": [
    "## Displaying image in Tkinter\n",
    "The following program displays an image in a Tkinter program."
   ]
  },
  {
   "cell_type": "code",
   "execution_count": 35,
   "metadata": {
    "scrolled": true
   },
   "outputs": [],
   "source": [
    "from PIL import Image, ImageTk\n",
    "from tkinter import Tk\n",
    "from tkinter.ttk import Frame, Label\n",
    "import sys\n",
    "\n",
    "class Example(Frame):\n",
    "    \n",
    "    def __init__(self):\n",
    "        super().__init__()\n",
    "        \n",
    "        self.loadImage()\n",
    "        self.initUI()\n",
    "        \n",
    "    def loadImage(self):\n",
    "        try:\n",
    "            self.img = Image.open(\"messi.jpeg\")\n",
    "        \n",
    "        except IOError:\n",
    "            print(\"Unable to load image\")\n",
    "            sys.exit(1)\n",
    "    \n",
    "    def initUI(self):\n",
    "        \n",
    "        self.master.title(\"Label\")\n",
    "        \n",
    "        messi = ImageTk.PhotoImage(self.img)\n",
    "        label = Label(self, image=messi)\n",
    "        \n",
    "        # reference must be stored\n",
    "        label.image = messi\n",
    "        \n",
    "        label.pack()\n",
    "        self.pack()\n",
    "        \n",
    "\n",
    "    def setGeometry(self):\n",
    "        \n",
    "        w, h = self.img.size\n",
    "        self.master.geometry((\"%dx%d+300+300\") % (w, h))\n",
    "        \n",
    "def main():\n",
    "    \n",
    "    root = Tk()\n",
    "    ex = Example()\n",
    "    ex.setGeometry()\n",
    "    root.mainloop()\n",
    "    \n",
    "\n",
    "if __name__ == '__main__':\n",
    "    main()  "
   ]
  },
  {
   "cell_type": "markdown",
   "metadata": {},
   "source": [
    "## Reading image from URL\n",
    "The next example reads an image from URL. "
   ]
  },
  {
   "cell_type": "code",
   "execution_count": 42,
   "metadata": {},
   "outputs": [
    {
     "name": "stdout",
     "output_type": "stream",
     "text": [
      "Image Saved!\n"
     ]
    }
   ],
   "source": [
    "from PIL import Image\n",
    "import requests\n",
    "import sys\n",
    "\n",
    "url = 'https://i.ytimg.com/vi/vEYsdh6uiS4/maxresdefault.jpg'\n",
    "\n",
    "try:\n",
    "    resp = requests.get(url, stream=True).raw\n",
    "\n",
    "except requests.exceptions.RequestException as e:\n",
    "    sys.exit(1)\n",
    "\n",
    "try:\n",
    "    img = Image.open(resp)\n",
    "\n",
    "except IOError:\n",
    "    print(\"unable to open image\")\n",
    "    sys.exit(1)\n",
    "\n",
    "img.save('sid.jpg', 'jpeg')\n",
    "print(\"Image Saved!\")"
   ]
  },
  {
   "cell_type": "markdown",
   "metadata": {},
   "source": [
    "## Drawing to Pillow image\n",
    "Pillow has some basic 2D graphics capabilities. ImageDraw module provides simple 2D graphics for Image objects. We can create new images, annotate or retouch existing images, and generate graphics on the fly for web use."
   ]
  },
  {
   "cell_type": "code",
   "execution_count": 46,
   "metadata": {},
   "outputs": [],
   "source": [
    "from PIL import Image, ImageDraw\n",
    "\n",
    "# Create a new image\n",
    "img = Image.new('RGBA', (200,200), 'white')\n",
    "\n",
    "# Perform some drawing operations on the image\n",
    "idraw = ImageDraw.Draw(img)\n",
    "\n",
    "# With the rectangle() method, we draw a blue rectangle on the image \n",
    "idraw.rectangle((10,10,100,100), fill='blue')\n",
    "\n",
    "img.save('rectangle.png')\n",
    "img.show()"
   ]
  },
  {
   "cell_type": "markdown",
   "metadata": {},
   "source": [
    "## Creating watermark with Pillow"
   ]
  },
  {
   "cell_type": "code",
   "execution_count": 73,
   "metadata": {},
   "outputs": [],
   "source": [
    "from PIL import Image, ImageDraw, ImageFont\n",
    "import sys\n",
    "\n",
    "try:\n",
    "    img = Image.open(\"messi.jpeg\")\n",
    "\n",
    "except:\n",
    "    print(\"Unable to load image\")\n",
    "    sys.exit(1)\n",
    "    \n",
    "idraw = ImageDraw.Draw(img)\n",
    "text = \"Lionel Messi\"\n",
    "\n",
    "fnt = ImageFont.truetype('Pillow/Tests/fonts/FreeMono.ttf', 40)\n",
    "\n",
    "idraw.text((70, 5), text, font=fnt)\n",
    " \n",
    "img.save('Lionel_Messi.png')\n",
    "img.show()"
   ]
  }
 ],
 "metadata": {
  "kernelspec": {
   "display_name": "Python 3",
   "language": "python",
   "name": "python3"
  },
  "language_info": {
   "codemirror_mode": {
    "name": "ipython",
    "version": 3
   },
   "file_extension": ".py",
   "mimetype": "text/x-python",
   "name": "python",
   "nbconvert_exporter": "python",
   "pygments_lexer": "ipython3",
   "version": "3.8.3"
  }
 },
 "nbformat": 4,
 "nbformat_minor": 4
}
