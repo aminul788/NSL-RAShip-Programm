{
 "cells": [
  {
   "cell_type": "code",
   "execution_count": 5,
   "metadata": {},
   "outputs": [
    {
     "name": "stdout",
     "output_type": "stream",
     "text": [
      "Convert a string or number to a floating point number, if possible.\n"
     ]
    }
   ],
   "source": [
    "print(float.__doc__)"
   ]
  },
  {
   "cell_type": "code",
   "execution_count": 8,
   "metadata": {},
   "outputs": [
    {
     "name": "stdout",
     "output_type": "stream",
     "text": [
      "3.14\n"
     ]
    }
   ],
   "source": [
    "print(float(\"3.14\"))"
   ]
  },
  {
   "cell_type": "code",
   "execution_count": 11,
   "metadata": {
    "scrolled": true
   },
   "outputs": [
    {
     "name": "stdout",
     "output_type": "stream",
     "text": [
      "int([x]) -> integer\n",
      "int(x, base=10) -> integer\n",
      "\n",
      "Convert a number or string to an integer, or return 0 if no arguments\n",
      "are given.  If x is a number, return x.__int__().  For floating point\n",
      "numbers, this truncates towards zero.\n",
      "\n",
      "If x is not a number or if base is given, then x must be a string,\n",
      "bytes, or bytearray instance representing an integer literal in the\n",
      "given base.  The literal can be preceded by '+' or '-' and be surrounded\n",
      "by whitespace.  The base defaults to 10.  Valid bases are 0 and 2-36.\n",
      "Base 0 means to interpret the base from the string as an integer literal.\n",
      ">>> int('0b100', base=0)\n",
      "4\n"
     ]
    }
   ],
   "source": [
    "print(int.__doc__)"
   ]
  },
  {
   "cell_type": "code",
   "execution_count": 26,
   "metadata": {},
   "outputs": [
    {
     "name": "stdout",
     "output_type": "stream",
     "text": [
      "10\n"
     ]
    }
   ],
   "source": [
    "print(int(\"0b1010\", base=0))"
   ]
  },
  {
   "cell_type": "code",
   "execution_count": 28,
   "metadata": {},
   "outputs": [
    {
     "name": "stdout",
     "output_type": "stream",
     "text": [
      "dog's home\n"
     ]
    }
   ],
   "source": [
    "print(\"dog's home\")"
   ]
  },
  {
   "cell_type": "code",
   "execution_count": 30,
   "metadata": {},
   "outputs": [
    {
     "name": "stdout",
     "output_type": "stream",
     "text": [
      "str(object='') -> str\n",
      "str(bytes_or_buffer[, encoding[, errors]]) -> str\n",
      "\n",
      "Create a new string object from the given object. If encoding or\n",
      "errors is specified, then the object must expose a data buffer\n",
      "that will be decoded using the given encoding and error handler.\n",
      "Otherwise, returns the result of object.__str__() (if defined)\n",
      "or repr(object).\n",
      "encoding defaults to sys.getdefaultencoding().\n",
      "errors defaults to 'strict'.\n"
     ]
    }
   ],
   "source": [
    "print(str.__doc__)"
   ]
  },
  {
   "cell_type": "code",
   "execution_count": 32,
   "metadata": {},
   "outputs": [],
   "source": [
    "my_list = ['as', 'a', 1, 100]"
   ]
  },
  {
   "cell_type": "code",
   "execution_count": 34,
   "metadata": {},
   "outputs": [],
   "source": [
    "my_list.append('cat')"
   ]
  },
  {
   "cell_type": "code",
   "execution_count": 36,
   "metadata": {},
   "outputs": [
    {
     "name": "stdout",
     "output_type": "stream",
     "text": [
      "['as', 'a', 1, 100, 'cat', 'cat']\n"
     ]
    }
   ],
   "source": [
    "print(my_list)"
   ]
  },
  {
   "cell_type": "code",
   "execution_count": 38,
   "metadata": {},
   "outputs": [],
   "source": [
    "my_list.extend(['cat1', 'dog', 'cow', 200])"
   ]
  },
  {
   "cell_type": "code",
   "execution_count": 40,
   "metadata": {},
   "outputs": [
    {
     "name": "stdout",
     "output_type": "stream",
     "text": [
      "['as', 'a', 1, 100, 'cat', 'cat', 'cat1', 'dog', 'cow', 200, 'cat1', 'dog', 'cow', 200]\n"
     ]
    }
   ],
   "source": [
    "print(my_list)"
   ]
  },
  {
   "cell_type": "code",
   "execution_count": 55,
   "metadata": {},
   "outputs": [
    {
     "data": {
      "text/plain": [
       "'a'"
      ]
     },
     "execution_count": 55,
     "metadata": {},
     "output_type": "execute_result"
    }
   ],
   "source": [
    "my_list.pop(0)"
   ]
  },
  {
   "cell_type": "code",
   "execution_count": 56,
   "metadata": {},
   "outputs": [
    {
     "name": "stdout",
     "output_type": "stream",
     "text": [
      "[1, 100, 'cat', 'cat', 'cat1', 'dog', 'cow', 200, 'cat1', 'dog']\n"
     ]
    }
   ],
   "source": [
    "print(my_list)"
   ]
  },
  {
   "cell_type": "code",
   "execution_count": 58,
   "metadata": {},
   "outputs": [],
   "source": [
    "my_list.remove(\"cat\")"
   ]
  },
  {
   "cell_type": "code",
   "execution_count": 60,
   "metadata": {},
   "outputs": [
    {
     "name": "stdout",
     "output_type": "stream",
     "text": [
      "[1, 100, 'cat1', 'dog', 'cow', 200, 'cat1', 'dog']\n"
     ]
    }
   ],
   "source": [
    "print(my_list)"
   ]
  },
  {
   "cell_type": "code",
   "execution_count": 62,
   "metadata": {},
   "outputs": [],
   "source": [
    "del my_list[2]"
   ]
  },
  {
   "cell_type": "code",
   "execution_count": 65,
   "metadata": {},
   "outputs": [
    {
     "name": "stdout",
     "output_type": "stream",
     "text": [
      "[1, 100, 'cow', 200, 'cat1', 'dog']\n"
     ]
    }
   ],
   "source": [
    "print(my_list)"
   ]
  },
  {
   "cell_type": "code",
   "execution_count": 67,
   "metadata": {},
   "outputs": [
    {
     "data": {
      "text/plain": [
       "2"
      ]
     },
     "execution_count": 67,
     "metadata": {},
     "output_type": "execute_result"
    }
   ],
   "source": [
    "my_list.index('cow')"
   ]
  },
  {
   "cell_type": "code",
   "execution_count": 69,
   "metadata": {},
   "outputs": [],
   "source": [
    "tp = (1,2,3,[4,5])"
   ]
  },
  {
   "cell_type": "code",
   "execution_count": 71,
   "metadata": {},
   "outputs": [
    {
     "name": "stdout",
     "output_type": "stream",
     "text": [
      "4\n"
     ]
    }
   ],
   "source": [
    "print(len(tp))"
   ]
  },
  {
   "cell_type": "code",
   "execution_count": 73,
   "metadata": {},
   "outputs": [],
   "source": [
    "tp[3][1] = 6"
   ]
  },
  {
   "cell_type": "code",
   "execution_count": 75,
   "metadata": {},
   "outputs": [
    {
     "data": {
      "text/plain": [
       "(1, 2, 3, [4, 6])"
      ]
     },
     "execution_count": 75,
     "metadata": {},
     "output_type": "execute_result"
    }
   ],
   "source": [
    "tp"
   ]
  },
  {
   "cell_type": "code",
   "execution_count": 77,
   "metadata": {},
   "outputs": [],
   "source": [
    "v = (100, 500, 'a')"
   ]
  },
  {
   "cell_type": "code",
   "execution_count": 79,
   "metadata": {},
   "outputs": [],
   "source": [
    "c, b, a = v"
   ]
  },
  {
   "cell_type": "code",
   "execution_count": 83,
   "metadata": {},
   "outputs": [
    {
     "name": "stdout",
     "output_type": "stream",
     "text": [
      "a 500 100\n"
     ]
    }
   ],
   "source": [
    "print(a, b, c)"
   ]
  },
  {
   "cell_type": "code",
   "execution_count": 89,
   "metadata": {},
   "outputs": [],
   "source": [
    "st = {'s', 'e', 't'}"
   ]
  },
  {
   "cell_type": "code",
   "execution_count": 92,
   "metadata": {},
   "outputs": [
    {
     "data": {
      "text/plain": [
       "{'e', 's', 't'}"
      ]
     },
     "execution_count": 92,
     "metadata": {},
     "output_type": "execute_result"
    }
   ],
   "source": [
    "st"
   ]
  },
  {
   "cell_type": "code",
   "execution_count": 111,
   "metadata": {},
   "outputs": [],
   "source": [
    "st.add('T')"
   ]
  },
  {
   "cell_type": "code",
   "execution_count": 95,
   "metadata": {},
   "outputs": [
    {
     "data": {
      "text/plain": [
       "{'T', 'e', 's', 't'}"
      ]
     },
     "execution_count": 95,
     "metadata": {},
     "output_type": "execute_result"
    }
   ],
   "source": [
    "st"
   ]
  },
  {
   "cell_type": "code",
   "execution_count": 97,
   "metadata": {},
   "outputs": [],
   "source": [
    "st.update('1','2','1')"
   ]
  },
  {
   "cell_type": "code",
   "execution_count": 98,
   "metadata": {},
   "outputs": [
    {
     "data": {
      "text/plain": [
       "{'1', '2', 'T', 'e', 's', 't'}"
      ]
     },
     "execution_count": 98,
     "metadata": {},
     "output_type": "execute_result"
    }
   ],
   "source": [
    "st"
   ]
  },
  {
   "cell_type": "code",
   "execution_count": 100,
   "metadata": {},
   "outputs": [],
   "source": [
    "st.discard('t')"
   ]
  },
  {
   "cell_type": "code",
   "execution_count": 101,
   "metadata": {},
   "outputs": [
    {
     "data": {
      "text/plain": [
       "{'1', '2', 'T', 'e', 's'}"
      ]
     },
     "execution_count": 101,
     "metadata": {},
     "output_type": "execute_result"
    }
   ],
   "source": [
    "st"
   ]
  },
  {
   "cell_type": "code",
   "execution_count": 106,
   "metadata": {},
   "outputs": [],
   "source": [
    "st.remove('T')"
   ]
  },
  {
   "cell_type": "code",
   "execution_count": 112,
   "metadata": {},
   "outputs": [
    {
     "data": {
      "text/plain": [
       "{'T', 'e'}"
      ]
     },
     "execution_count": 112,
     "metadata": {},
     "output_type": "execute_result"
    }
   ],
   "source": [
    "st"
   ]
  },
  {
   "cell_type": "code",
   "execution_count": 113,
   "metadata": {},
   "outputs": [
    {
     "data": {
      "text/plain": [
       "'e'"
      ]
     },
     "execution_count": 113,
     "metadata": {},
     "output_type": "execute_result"
    }
   ],
   "source": [
    "st.pop()"
   ]
  },
  {
   "cell_type": "code",
   "execution_count": 115,
   "metadata": {},
   "outputs": [
    {
     "name": "stdout",
     "output_type": "stream",
     "text": [
      "H\n",
      "e\n",
      "l\n",
      "l\n",
      "o\n"
     ]
    }
   ],
   "source": [
    "for i in \"Hello\":\n",
    "    print(i)"
   ]
  },
  {
   "cell_type": "code",
   "execution_count": 117,
   "metadata": {},
   "outputs": [
    {
     "name": "stdout",
     "output_type": "stream",
     "text": [
      "Even 2\n",
      "Even 4\n",
      "Even 6\n",
      "GT 5\n"
     ]
    }
   ],
   "source": [
    "for n in range(2,10):\n",
    "    if n % 2 == 0:\n",
    "        print('Even', n)\n",
    "        continue\n",
    "    if n > 5:\n",
    "        print('GT 5')\n",
    "        break"
   ]
  },
  {
   "cell_type": "code",
   "execution_count": 120,
   "metadata": {},
   "outputs": [
    {
     "name": "stdout",
     "output_type": "stream",
     "text": [
      "<generator object reverse at 0x7fe1246de950>\n",
      "N\n",
      "O\n",
      "H\n",
      "T\n",
      "Y\n",
      "P\n"
     ]
    }
   ],
   "source": [
    "def reverse(data):\n",
    "    for index in range(len(data)-1,-1,-1):\n",
    "        yield data[index]\n",
    "        \n",
    "\n",
    "a = reverse(\"PYTHON\")\n",
    "print(a)\n",
    "for i in a:\n",
    "    print(i)"
   ]
  },
  {
   "cell_type": "code",
   "execution_count": 123,
   "metadata": {},
   "outputs": [
    {
     "name": "stdout",
     "output_type": "stream",
     "text": [
      "[4, 6, 8, 10, 12, 14, 16, 18]\n"
     ]
    }
   ],
   "source": [
    "s =[2*x for x in range(10) if x**2 > 3]\n",
    "print(s)"
   ]
  },
  {
   "cell_type": "code",
   "execution_count": 127,
   "metadata": {},
   "outputs": [
    {
     "name": "stdout",
     "output_type": "stream",
     "text": [
      "[(0, 0), (0, 1), (0, 2), (1, 0), (1, 1), (1, 2)]\n"
     ]
    }
   ],
   "source": [
    "pairs = [(x,y) for x in range(2) for y in range(3)]\n",
    "print(pairs)"
   ]
  },
  {
   "cell_type": "code",
   "execution_count": 132,
   "metadata": {},
   "outputs": [
    {
     "name": "stdout",
     "output_type": "stream",
     "text": [
      "{'Python': 6, 'Javascript': 10, 'Golang': 6}\n"
     ]
    }
   ],
   "source": [
    "ls = {s: len(s) for s in [\"Python\", \"Javascript\", \"Golang\"]}\n",
    "print(ls)"
   ]
  },
  {
   "cell_type": "code",
   "execution_count": 135,
   "metadata": {},
   "outputs": [
    {
     "name": "stdout",
     "output_type": "stream",
     "text": [
      "{6: 'Golang', 10: 'Javascript'}\n"
     ]
    }
   ],
   "source": [
    "sl = {v:k for k, v in ls.items()}\n",
    "print(sl)"
   ]
  },
  {
   "cell_type": "code",
   "execution_count": 139,
   "metadata": {},
   "outputs": [
    {
     "name": "stdout",
     "output_type": "stream",
     "text": [
      "Hello World!\n",
      "Hello\n"
     ]
    }
   ],
   "source": [
    "def f():\n",
    "    \"\"\"Hello\"\"\"\n",
    "    return \"Hello World!\"\n",
    "\n",
    "print(f())\n",
    "print(f.__doc__)"
   ]
  },
  {
   "cell_type": "code",
   "execution_count": 145,
   "metadata": {},
   "outputs": [
    {
     "name": "stdout",
     "output_type": "stream",
     "text": [
      "hello, world!\n",
      "hello, python!\n"
     ]
    }
   ],
   "source": [
    "def f(name = \"world\"):\n",
    "    return \"hello, {}!\".format(name)\n",
    "\n",
    "print(f())\n",
    "print(f(\"python\"))"
   ]
  },
  {
   "cell_type": "code",
   "execution_count": 152,
   "metadata": {},
   "outputs": [
    {
     "name": "stdout",
     "output_type": "stream",
     "text": [
      "hello, Python!\n",
      "hi, Node.js!\n"
     ]
    }
   ],
   "source": [
    "def f(v, l = \"Python\"):\n",
    "    return \"{}, {}!\".format(v,l)\n",
    "\n",
    "print(f(\"hello\"))\n",
    "print(f(\"hi\", \"Node.js\"))"
   ]
  },
  {
   "cell_type": "code",
   "execution_count": 158,
   "metadata": {},
   "outputs": [
    {
     "name": "stdout",
     "output_type": "stream",
     "text": [
      "True\n",
      "hello Python/Java/C/C++\n"
     ]
    }
   ],
   "source": [
    "def f(*args, con=\" & \"):\n",
    "    print(isinstance(args, tuple))\n",
    "    print(\"hello\", con.join(args))\n",
    "\n",
    "f(\"Python\", \"Java\", \"C\", \"C++\", con = \"/\")"
   ]
  },
  {
   "cell_type": "code",
   "execution_count": 175,
   "metadata": {},
   "outputs": [
    {
     "name": "stdout",
     "output_type": "stream",
     "text": [
      "args ('Python', 'Javascript', 'Node.js')\n",
      "kargs {'a': 'C++', 'b': 'Haskell', 'c': 'Java'}\n",
      "FP: C++ & Script: Python/Javascript/Node.js\n"
     ]
    }
   ],
   "source": [
    "def f(*args, **kargs):\n",
    "    print(\"args\", args)\n",
    "    print(\"kargs\", kargs)\n",
    "    print(\"FP: {} & Script: {}\".format(kargs.get(\"a\"), \"/\".join(args)))\n",
    "\n",
    "f(\"Python\", \"Javascript\", \"Node.js\", a = \"C++\", b =\"Haskell\",c = \"Java\")"
   ]
  },
  {
   "cell_type": "code",
   "execution_count": 192,
   "metadata": {},
   "outputs": [
    {
     "name": "stdout",
     "output_type": "stream",
     "text": [
      "[(4, 'four'), (1, 'one'), (6, 'six'), (2, 'two')]\n",
      "[(1, 'one'), (2, 'two'), (4, 'four'), (6, 'six')]\n"
     ]
    }
   ],
   "source": [
    "pairs =[(1, \"one\"), (2,\"two\"), (6,\"six\"), (4,\"four\")]\n",
    "\n",
    "pairs.sort(key=lambda p: p[1])\n",
    "print(pairs)\n",
    "\n",
    "pairs.sort(key = lambda pair: pair[0])\n",
    "print(pairs)"
   ]
  },
  {
   "cell_type": "code",
   "execution_count": 201,
   "metadata": {},
   "outputs": [
    {
     "name": "stdout",
     "output_type": "stream",
     "text": [
      "-------------\n",
      "Aminul\n",
      "-------------\n",
      "**********\n",
      "-------------\n",
      "Islam\n",
      "-------------\n"
     ]
    }
   ],
   "source": [
    "def log(f):\n",
    "    def wrapper():\n",
    "        print(\"-------------\")\n",
    "        f()\n",
    "        print(\"-------------\")\n",
    "    return wrapper\n",
    "\n",
    "@log\n",
    "def fa():\n",
    "    print(\"Aminul\")\n",
    "\n",
    "\n",
    "def fb():\n",
    "    print(\"Islam\")\n",
    "\n",
    "fa()\n",
    "\n",
    "print('*'*10)\n",
    "\n",
    "## another way\n",
    "fb = log(fb)\n",
    "\n",
    "fb()\n",
    "    "
   ]
  },
  {
   "cell_type": "code",
   "execution_count": 224,
   "metadata": {},
   "outputs": [
    {
     "name": "stdout",
     "output_type": "stream",
     "text": [
      "I can fly!\n",
      "Animal class documention\n"
     ]
    }
   ],
   "source": [
    "### OOP\n",
    "class Animal():\n",
    "    \"\"\"Animal class documention\"\"\"\n",
    "    \n",
    "    def fly(self):\n",
    "        print(\"I can fly!\")\n",
    "\n",
    "a = Animal()\n",
    "a.fly()\n",
    "print(a.__doc__)"
   ]
  },
  {
   "cell_type": "code",
   "execution_count": 227,
   "metadata": {},
   "outputs": [
    {
     "name": "stdout",
     "output_type": "stream",
     "text": [
      "Calling __init__() when instantiation\n",
      "I can't fly!\n",
      "Calling __init__() when instantiation\n",
      "I can fly!\n"
     ]
    }
   ],
   "source": [
    "### __init__ & self of oop\n",
    "class Animal:\n",
    "    \"\"\"Animal Class documentation\"\"\"\n",
    "    \n",
    "    def __init__(self, can_fly = False):\n",
    "        print(\"Calling __init__() when instantiation\")\n",
    "        self.can_fly = can_fly\n",
    "    \n",
    "    def fly(self):\n",
    "        if self.can_fly:\n",
    "            print(\"I can fly!\")\n",
    "        else:\n",
    "            print(\"I can't fly!\")\n",
    "\n",
    "a = Animal()\n",
    "a.fly()\n",
    "\n",
    "b = Animal(can_fly = True)\n",
    "b.fly()"
   ]
  },
  {
   "cell_type": "code",
   "execution_count": 232,
   "metadata": {},
   "outputs": [
    {
     "name": "stdout",
     "output_type": "stream",
     "text": [
      "True\n",
      "False\n"
     ]
    }
   ],
   "source": [
    "### Inctance\n",
    "class Animal:\n",
    "    pass\n",
    "\n",
    "class Human:\n",
    "    pass\n",
    "\n",
    "a = Animal()\n",
    "h = Human()\n",
    "\n",
    "print(isinstance(a, Animal))\n",
    "print(isinstance(h, Animal))"
   ]
  },
  {
   "cell_type": "code",
   "execution_count": 242,
   "metadata": {},
   "outputs": [
    {
     "name": "stdout",
     "output_type": "stream",
     "text": [
      "I can not fly!\n",
      "Woof!\n"
     ]
    }
   ],
   "source": [
    "### Inheritance\n",
    "class Animal:\n",
    "    \"\"\"This is an Animal\"\"\"\n",
    "    \n",
    "    def __init__(self, can_fly = False):\n",
    "        self.can_fly = can_fly\n",
    "    \n",
    "    def fly(self):\n",
    "        if self.can_fly:\n",
    "            print(\"I can fly!\")\n",
    "        else:\n",
    "            print(\"I can not fly!\")\n",
    "\n",
    "class Dog(Animal):\n",
    "    \"\"\"This is a dog\"\"\"\n",
    "    def bark(self):\n",
    "        print(\"Woof!\")\n",
    "\n",
    "d = Dog()\n",
    "d.fly()\n",
    "d.bark()"
   ]
  },
  {
   "cell_type": "code",
   "execution_count": null,
   "metadata": {},
   "outputs": [],
   "source": []
  },
  {
   "cell_type": "code",
   "execution_count": 251,
   "metadata": {},
   "outputs": [
    {
     "name": "stdout",
     "output_type": "stream",
     "text": [
      "I am flying High!\n"
     ]
    }
   ],
   "source": [
    "### Override\n",
    "class Animal:\n",
    "    \"\"\"This is a animal\"\"\"\n",
    "    \n",
    "    def __init__(self, can_fly):\n",
    "        self.can_fly = can_fly\n",
    "    \n",
    "    def fly(self):\n",
    "        if self.can_fly:\n",
    "            print(\"I can fly!\")\n",
    "        else:\n",
    "            print(\"I can not fly!\")\n",
    "\n",
    "class Bird:\n",
    "    \"\"\"This is a bird\"\"\"\n",
    "    \n",
    "    def fly(self):\n",
    "        print(\"I am flying High!\")\n",
    "    \n",
    "b = Bird()\n",
    "b.fly()\n",
    "        "
   ]
  },
  {
   "cell_type": "code",
   "execution_count": 253,
   "metadata": {},
   "outputs": [
    {
     "name": "stdout",
     "output_type": "stream",
     "text": [
      "posix\n"
     ]
    }
   ],
   "source": [
    "### Module: import\n",
    "import os\n",
    "print(os.name)"
   ]
  },
  {
   "cell_type": "code",
   "execution_count": 255,
   "metadata": {},
   "outputs": [
    {
     "name": "stdout",
     "output_type": "stream",
     "text": [
      "VERSION: 3.7\n"
     ]
    }
   ],
   "source": [
    "from sys import version_info as PY_VERSION\n",
    "print(\"VERSION: {}.{}\".format(PY_VERSION.major, PY_VERSION.minor))"
   ]
  },
  {
   "cell_type": "code",
   "execution_count": 257,
   "metadata": {},
   "outputs": [
    {
     "data": {
      "text/plain": [
       "3.141592653589793"
      ]
     },
     "execution_count": 257,
     "metadata": {},
     "output_type": "execute_result"
    }
   ],
   "source": [
    "from math import*\n",
    "pi"
   ]
  },
  {
   "cell_type": "code",
   "execution_count": null,
   "metadata": {},
   "outputs": [],
   "source": []
  }
 ],
 "metadata": {
  "kernelspec": {
   "display_name": "Python 3",
   "language": "python",
   "name": "python3"
  },
  "language_info": {
   "codemirror_mode": {
    "name": "ipython",
    "version": 3
   },
   "file_extension": ".py",
   "mimetype": "text/x-python",
   "name": "python",
   "nbconvert_exporter": "python",
   "pygments_lexer": "ipython3",
   "version": "3.7.6"
  }
 },
 "nbformat": 4,
 "nbformat_minor": 4
}
