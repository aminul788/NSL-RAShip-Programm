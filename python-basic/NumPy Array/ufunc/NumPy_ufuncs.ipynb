{
 "cells": [
  {
   "cell_type": "markdown",
   "metadata": {},
   "source": [
    "## NumPy Universal Functions"
   ]
  },
  {
   "cell_type": "code",
   "execution_count": 1,
   "metadata": {},
   "outputs": [],
   "source": [
    "# link: https://www.w3schools.com/python/numpy_ufunc.asp"
   ]
  },
  {
   "cell_type": "code",
   "execution_count": 3,
   "metadata": {},
   "outputs": [
    {
     "name": "stdout",
     "output_type": "stream",
     "text": [
      "[5, 7, 9, 11]\n"
     ]
    }
   ],
   "source": [
    "## Without ufunc, we can use Python's built-in zip() method\n",
    "\n",
    "x = [1, 2, 3, 4]\n",
    "y = [4, 5, 6, 7]\n",
    "z = []\n",
    "\n",
    "for i, j in zip(x, y):\n",
    "    z.append(i + j)\n",
    "print(z)"
   ]
  },
  {
   "cell_type": "code",
   "execution_count": 5,
   "metadata": {},
   "outputs": [
    {
     "name": "stdout",
     "output_type": "stream",
     "text": [
      "[ 5  7  9 11]\n"
     ]
    }
   ],
   "source": [
    "## With ufunc, we can use the add() function\n",
    "\n",
    "import numpy as np\n",
    "\n",
    "x = [1, 2, 3, 4]\n",
    "y = [4, 5, 6, 7]\n",
    "z = np.add(x, y)\n",
    "\n",
    "print(z)"
   ]
  },
  {
   "cell_type": "markdown",
   "metadata": {},
   "source": [
    "## Creating Own ufunc"
   ]
  },
  {
   "cell_type": "code",
   "execution_count": 9,
   "metadata": {},
   "outputs": [
    {
     "name": "stdout",
     "output_type": "stream",
     "text": [
      "[6 8 10 12]\n"
     ]
    }
   ],
   "source": [
    "## create own func for addition\n",
    "\n",
    "import numpy as np\n",
    "\n",
    "def myadd(x, y):\n",
    "    return x+y\n",
    "\n",
    "myadd = np.frompyfunc(myadd, 2, 1)\n",
    "\n",
    "print(myadd([1, 2, 3, 4], [5, 6, 7, 8]))"
   ]
  },
  {
   "cell_type": "markdown",
   "metadata": {},
   "source": [
    "### Check if a Function is a ufunc"
   ]
  },
  {
   "cell_type": "code",
   "execution_count": 18,
   "metadata": {},
   "outputs": [
    {
     "name": "stdout",
     "output_type": "stream",
     "text": [
      "<class 'numpy.ufunc'>\n",
      "<class 'function'>\n"
     ]
    }
   ],
   "source": [
    "## Check if a function is a ufunc\n",
    "## A ufunc should return <class 'numpy.ufunc'>\n",
    "\n",
    "import numpy as np\n",
    "\n",
    "print(type(np.add))\n",
    "\n",
    "print(type(np.concatenate))\n"
   ]
  },
  {
   "cell_type": "code",
   "execution_count": 20,
   "metadata": {},
   "outputs": [
    {
     "name": "stdout",
     "output_type": "stream",
     "text": [
      "add is ufunc\n"
     ]
    }
   ],
   "source": [
    "## use an if statement to check if the function is a ufunc or not\n",
    "\n",
    "import numpy as np\n",
    "\n",
    "if type(np.add) == np.ufunc:\n",
    "    print('add is ufunc')\n",
    "else:\n",
    "    print('add is not ufunc')"
   ]
  },
  {
   "cell_type": "code",
   "execution_count": 23,
   "metadata": {},
   "outputs": [
    {
     "name": "stdout",
     "output_type": "stream",
     "text": [
      "[30 32 34 36 38 40]\n"
     ]
    }
   ],
   "source": [
    "## Add the values in arr1 to the values in arr2\n",
    "\n",
    "import numpy as np\n",
    "\n",
    "arr1 = np.array([10,  11, 12, 13, 14, 15])\n",
    "arr2 = np.array([20, 21, 22, 23, 24, 25])\n",
    "\n",
    "newarr = np.add(arr1, arr2)\n",
    "\n",
    "print(newarr)"
   ]
  },
  {
   "cell_type": "code",
   "execution_count": 27,
   "metadata": {},
   "outputs": [
    {
     "name": "stdout",
     "output_type": "stream",
     "text": [
      "[30 41 52 63 74 85]\n",
      "[-10  -1   8  17  26  35]\n",
      "[ 200  420  660  920 1200 1500]\n",
      "[0.5        0.95238095 1.36363636 1.73913043 2.08333333 2.4       ]\n"
     ]
    }
   ],
   "source": [
    "##Add, Subtract, Multiply, Divide the values in arr2 from the values in arr1\n",
    "\n",
    "import numpy as np\n",
    "\n",
    "arr1 = np.array([10, 20, 30, 40, 50, 60])\n",
    "arr2 = np.array([20, 21, 22, 23, 24, 25])\n",
    "\n",
    "arr_add = np.add(arr1, arr2)\n",
    "arr_sub = np.subtract(arr1, arr2)\n",
    "arr_mul = np.multiply(arr1, arr2)\n",
    "arr_div = np.divide(arr1, arr2)\n",
    "\n",
    "print(arr_add)\n",
    "print(arr_sub)\n",
    "print(arr_mul)\n",
    "print(arr_div)"
   ]
  },
  {
   "cell_type": "code",
   "execution_count": 29,
   "metadata": {},
   "outputs": [
    {
     "name": "stdout",
     "output_type": "stream",
     "text": [
      "[         1000       3200000     729000000 6553600000000          2500\n",
      "             0]\n"
     ]
    }
   ],
   "source": [
    "## Raise the valuse in arr1 to the power of values in arr2\n",
    "\n",
    "import numpy as np\n",
    "\n",
    "arr1 = np.array([10, 20, 30, 40, 50, 60])\n",
    "arr2 = np.array([3, 5, 6, 8, 2, 33])\n",
    "\n",
    "newarr = np.power(arr1, arr2)\n",
    "\n",
    "print(newarr)"
   ]
  },
  {
   "cell_type": "markdown",
   "metadata": {},
   "source": [
    "### Remander"
   ]
  },
  {
   "cell_type": "code",
   "execution_count": 33,
   "metadata": {},
   "outputs": [
    {
     "name": "stdout",
     "output_type": "stream",
     "text": [
      "[ 1  6  3  0  0 27]\n",
      "[ 1  6  3  0  0 27]\n"
     ]
    }
   ],
   "source": [
    "## Both mod() and the remainder() functions return the remainder\n",
    "\n",
    "import numpy as np\n",
    "\n",
    "arr1 = np.array([10, 20, 30, 40, 50, 60])\n",
    "arr2 = np.array([3, 7, 9, 8, 2, 33])\n",
    "\n",
    "newarr1 = np.mod(arr1, arr2)\n",
    "newarr2 = np.remainder(arr1, arr2)\n",
    "\n",
    "print(newarr1)\n",
    "print(newarr2)"
   ]
  },
  {
   "cell_type": "markdown",
   "metadata": {},
   "source": [
    "### Quotient and Mod"
   ]
  },
  {
   "cell_type": "code",
   "execution_count": 36,
   "metadata": {},
   "outputs": [
    {
     "name": "stdout",
     "output_type": "stream",
     "text": [
      "(array([ 3,  2,  3,  5, 25,  1]), array([ 1,  6,  3,  0,  0, 27]))\n"
     ]
    }
   ],
   "source": [
    "## Return the quotient and mod\n",
    "\n",
    "import numpy as np\n",
    "\n",
    "arr1 = np.array([10, 20, 30, 40, 50, 60])\n",
    "arr2 = np.array([3, 7, 9, 8, 2, 33])\n",
    "\n",
    "newarr = np.divmod(arr1, arr2)\n",
    "\n",
    "print(newarr)"
   ]
  },
  {
   "cell_type": "markdown",
   "metadata": {},
   "source": [
    "### Absolute Values"
   ]
  },
  {
   "cell_type": "code",
   "execution_count": 38,
   "metadata": {},
   "outputs": [
    {
     "name": "stdout",
     "output_type": "stream",
     "text": [
      "[1 2 1 2 3 4]\n"
     ]
    }
   ],
   "source": [
    "## Return the quotient and mod\n",
    "\n",
    "import numpy as np\n",
    "\n",
    "arr = np.array([-1, -2, 1, 2, 3, -4])\n",
    "\n",
    "newarr = np.absolute(arr)\n",
    "\n",
    "print(newarr)"
   ]
  }
 ],
 "metadata": {
  "kernelspec": {
   "display_name": "Python 3",
   "language": "python",
   "name": "python3"
  },
  "language_info": {
   "codemirror_mode": {
    "name": "ipython",
    "version": 3
   },
   "file_extension": ".py",
   "mimetype": "text/x-python",
   "name": "python",
   "nbconvert_exporter": "python",
   "pygments_lexer": "ipython3",
   "version": "3.8.3"
  }
 },
 "nbformat": 4,
 "nbformat_minor": 4
}
