{
 "cells": [
  {
   "cell_type": "markdown",
   "metadata": {},
   "source": [
    "## Random Numbers in NumPy"
   ]
  },
  {
   "cell_type": "code",
   "execution_count": 13,
   "metadata": {},
   "outputs": [],
   "source": [
    "import numpy as np"
   ]
  },
  {
   "cell_type": "markdown",
   "metadata": {},
   "source": [
    "### Generate Random Number"
   ]
  },
  {
   "cell_type": "code",
   "execution_count": 21,
   "metadata": {},
   "outputs": [
    {
     "name": "stdout",
     "output_type": "stream",
     "text": [
      "79\n",
      "0.817194316129545\n"
     ]
    }
   ],
   "source": [
    "from numpy import random\n",
    "\n",
    "x = random.randint(100)  ## generate random integer\n",
    "y = random.rand()  ## generate random float\n",
    "\n",
    "print(x)\n",
    "print(y)"
   ]
  },
  {
   "cell_type": "markdown",
   "metadata": {},
   "source": [
    "### ## Generaet random Array"
   ]
  },
  {
   "cell_type": "code",
   "execution_count": 31,
   "metadata": {},
   "outputs": [
    {
     "name": "stdout",
     "output_type": "stream",
     "text": [
      "[21 30 68 26 94]\n",
      "[[73 60 53 70 89]\n",
      " [68 38 43 11 60]\n",
      " [ 7 25 76 93 17]]\n"
     ]
    }
   ],
   "source": [
    "## Generaet random integer array\n",
    "from numpy import random\n",
    "\n",
    "a = random.randint(100, size=(5))\n",
    "b = random.randint(100, size=(3,5))\n",
    "\n",
    "print(a)\n",
    "print(b)"
   ]
  },
  {
   "cell_type": "code",
   "execution_count": 38,
   "metadata": {},
   "outputs": [
    {
     "name": "stdout",
     "output_type": "stream",
     "text": [
      "[0.45734321 0.84195594 0.16404892 0.6895257  0.08919286]\n",
      "[[0.69720397 0.64348302 0.46547369 0.53707489 0.75879009]\n",
      " [0.6553419  0.88058486 0.99664928 0.43789716 0.31931315]\n",
      " [0.26651184 0.24655305 0.82700644 0.28178565 0.55149288]]\n"
     ]
    }
   ],
   "source": [
    "## Generate random float array\n",
    "from numpy import random\n",
    "\n",
    "a = random.rand(5)\n",
    "b = random.rand(3,5)\n",
    "\n",
    "print(a)\n",
    "print(b)"
   ]
  },
  {
   "cell_type": "markdown",
   "metadata": {},
   "source": [
    "### Generate Rabdom Number From Array"
   ]
  },
  {
   "cell_type": "code",
   "execution_count": 41,
   "metadata": {},
   "outputs": [
    {
     "name": "stdout",
     "output_type": "stream",
     "text": [
      "7\n"
     ]
    }
   ],
   "source": [
    "from numpy import random\n",
    "arr = [3, 5, 7, 9]\n",
    "x = random.choice(arr)\n",
    "\n",
    "print(x)"
   ]
  },
  {
   "cell_type": "code",
   "execution_count": 46,
   "metadata": {},
   "outputs": [
    {
     "name": "stdout",
     "output_type": "stream",
     "text": [
      "[[29 40 59 93 49]\n",
      " [87 19 20 56 34]\n",
      " [59 60 64 15 38]]\n"
     ]
    }
   ],
   "source": [
    "## Generate a 2-D array\n",
    "from numpy import random\n",
    "\n",
    "arr = range(100)\n",
    "x = random.choice(arr, size=(3,5))\n",
    "\n",
    "print(x)"
   ]
  }
 ],
 "metadata": {
  "kernelspec": {
   "display_name": "Python 3",
   "language": "python",
   "name": "python3"
  },
  "language_info": {
   "codemirror_mode": {
    "name": "ipython",
    "version": 3
   },
   "file_extension": ".py",
   "mimetype": "text/x-python",
   "name": "python",
   "nbconvert_exporter": "python",
   "pygments_lexer": "ipython3",
   "version": "3.8.3"
  }
 },
 "nbformat": 4,
 "nbformat_minor": 4
}
