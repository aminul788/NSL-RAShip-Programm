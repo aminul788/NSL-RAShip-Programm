{
 "cells": [
  {
   "cell_type": "markdown",
   "metadata": {},
   "source": [
    "## Random Data Distribution"
   ]
  },
  {
   "cell_type": "code",
   "execution_count": 1,
   "metadata": {},
   "outputs": [],
   "source": [
    "### Data Distribution:\n",
    "## is a list of all possible values,\n",
    "## and how often each value occurs.\n",
    "\n",
    "### Random Distribution:\n",
    "## is a set of random numbers that follow a certain\n",
    "## probability density function.\n",
    "\n",
    "### Probability Density Function:\n",
    "## A function that describes a continuous probability.\n",
    "## i.e. probability of all values in an array."
   ]
  },
  {
   "cell_type": "code",
   "execution_count": 9,
   "metadata": {},
   "outputs": [
    {
     "name": "stdout",
     "output_type": "stream",
     "text": [
      "[5 3 7 5 5 5 7 3 7 9 9 7 3 9 7 5 5 5 5 5 9 5 5 9 3 7 7 5 7 9 5 9 3 7 7 5 3\n",
      " 9 5 9 5 5 5 5 7 3 7 5 9 9 9 9 9 9 7 7 3 7 5 7 7 7 5 5 5 5 9 7 7 7 5 7 3 7\n",
      " 5 9 7 5 5 9 5 5 5 9 5 3 5 7 5 7 7 7 9 9 7 7 3 9 5 9]\n"
     ]
    }
   ],
   "source": [
    "## Generating a 1-D array containing 100 values,\n",
    "## where each value has to be 3, 5, 7, or 9.\n",
    "\n",
    "from numpy import random\n",
    "\n",
    "## the sum of all probability numbers should be 1\n",
    "x = random.choice([3, 5, 7, 9], p=[0.1, 0.3, 0.4, 0.2], size=(100))\n",
    "\n",
    "print(x)"
   ]
  },
  {
   "cell_type": "code",
   "execution_count": 11,
   "metadata": {},
   "outputs": [
    {
     "name": "stdout",
     "output_type": "stream",
     "text": [
      "[[4 4 4 6 2]\n",
      " [6 8 6 2 4]\n",
      " [4 6 6 4 6]]\n"
     ]
    }
   ],
   "source": [
    "## Generating a 2-D array\n",
    "from numpy import random\n",
    "\n",
    "x = random.choice([2, 4, 6, 8], p=[0.2, 0.3, 0.4, 0.1], size=(3,5))\n",
    "\n",
    "print(x)"
   ]
  }
 ],
 "metadata": {
  "kernelspec": {
   "display_name": "Python 3",
   "language": "python",
   "name": "python3"
  },
  "language_info": {
   "codemirror_mode": {
    "name": "ipython",
    "version": 3
   },
   "file_extension": ".py",
   "mimetype": "text/x-python",
   "name": "python",
   "nbconvert_exporter": "python",
   "pygments_lexer": "ipython3",
   "version": "3.8.3"
  }
 },
 "nbformat": 4,
 "nbformat_minor": 4
}
