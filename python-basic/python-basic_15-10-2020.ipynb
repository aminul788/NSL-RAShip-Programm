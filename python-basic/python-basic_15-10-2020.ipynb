{
 "cells": [
  {
   "cell_type": "code",
   "execution_count": 1,
   "metadata": {},
   "outputs": [],
   "source": [
    "b = 10"
   ]
  },
  {
   "cell_type": "code",
   "execution_count": 4,
   "metadata": {},
   "outputs": [
    {
     "data": {
      "text/plain": [
       "10"
      ]
     },
     "execution_count": 4,
     "metadata": {},
     "output_type": "execute_result"
    }
   ],
   "source": [
    "b"
   ]
  },
  {
   "cell_type": "code",
   "execution_count": 6,
   "metadata": {},
   "outputs": [],
   "source": [
    "import numpy as np"
   ]
  },
  {
   "cell_type": "code",
   "execution_count": 8,
   "metadata": {},
   "outputs": [],
   "source": [
    "a = [[1,2,2],[4,5,6]]"
   ]
  },
  {
   "cell_type": "code",
   "execution_count": 10,
   "metadata": {},
   "outputs": [
    {
     "data": {
      "text/plain": [
       "list"
      ]
     },
     "execution_count": 10,
     "metadata": {},
     "output_type": "execute_result"
    }
   ],
   "source": [
    "type(a)"
   ]
  },
  {
   "cell_type": "code",
   "execution_count": 13,
   "metadata": {},
   "outputs": [
    {
     "data": {
      "text/plain": [
       "numpy.ndarray"
      ]
     },
     "execution_count": 13,
     "metadata": {},
     "output_type": "execute_result"
    }
   ],
   "source": [
    "a_ap = np.array(a)\n",
    "type(a_ap)"
   ]
  },
  {
   "cell_type": "code",
   "execution_count": 29,
   "metadata": {},
   "outputs": [],
   "source": [
    "s = 0"
   ]
  },
  {
   "cell_type": "code",
   "execution_count": 27,
   "metadata": {},
   "outputs": [],
   "source": [
    "msg = \"logout\" if s == 1 else \"Login\""
   ]
  },
  {
   "cell_type": "code",
   "execution_count": 32,
   "metadata": {},
   "outputs": [
    {
     "name": "stdout",
     "output_type": "stream",
     "text": [
      "logout\n"
     ]
    }
   ],
   "source": [
    "print(msg)"
   ]
  },
  {
   "cell_type": "code",
   "execution_count": 35,
   "metadata": {},
   "outputs": [
    {
     "name": "stdout",
     "output_type": "stream",
     "text": [
      "0\n",
      "1\n",
      "2\n",
      "3\n",
      "4\n",
      "5\n",
      "6\n",
      "7\n",
      "8\n",
      "9\n",
      "done\n"
     ]
    }
   ],
   "source": [
    "for i in range(10):\n",
    "    print(i)\n",
    "else:\n",
    "    print('done')"
   ]
  },
  {
   "cell_type": "code",
   "execution_count": 43,
   "metadata": {},
   "outputs": [
    {
     "name": "stdout",
     "output_type": "stream",
     "text": [
      "True\n"
     ]
    }
   ],
   "source": [
    "str = \"Hello World!\"\n",
    "\n",
    "print('d' in str)"
   ]
  },
  {
   "cell_type": "code",
   "execution_count": 45,
   "metadata": {},
   "outputs": [
    {
     "data": {
      "text/plain": [
       "['__add__',\n",
       " '__class__',\n",
       " '__contains__',\n",
       " '__delattr__',\n",
       " '__delitem__',\n",
       " '__dir__',\n",
       " '__doc__',\n",
       " '__eq__',\n",
       " '__format__',\n",
       " '__ge__',\n",
       " '__getattribute__',\n",
       " '__getitem__',\n",
       " '__gt__',\n",
       " '__hash__',\n",
       " '__iadd__',\n",
       " '__imul__',\n",
       " '__init__',\n",
       " '__init_subclass__',\n",
       " '__iter__',\n",
       " '__le__',\n",
       " '__len__',\n",
       " '__lt__',\n",
       " '__mul__',\n",
       " '__ne__',\n",
       " '__new__',\n",
       " '__reduce__',\n",
       " '__reduce_ex__',\n",
       " '__repr__',\n",
       " '__reversed__',\n",
       " '__rmul__',\n",
       " '__setattr__',\n",
       " '__setitem__',\n",
       " '__sizeof__',\n",
       " '__str__',\n",
       " '__subclasshook__',\n",
       " 'append',\n",
       " 'clear',\n",
       " 'copy',\n",
       " 'count',\n",
       " 'extend',\n",
       " 'index',\n",
       " 'insert',\n",
       " 'pop',\n",
       " 'remove',\n",
       " 'reverse',\n",
       " 'sort']"
      ]
     },
     "execution_count": 45,
     "metadata": {},
     "output_type": "execute_result"
    }
   ],
   "source": [
    "dir(list)"
   ]
  },
  {
   "cell_type": "code",
   "execution_count": 47,
   "metadata": {},
   "outputs": [
    {
     "data": {
      "text/plain": [
       "['__add__',\n",
       " '__class__',\n",
       " '__contains__',\n",
       " '__delattr__',\n",
       " '__dir__',\n",
       " '__doc__',\n",
       " '__eq__',\n",
       " '__format__',\n",
       " '__ge__',\n",
       " '__getattribute__',\n",
       " '__getitem__',\n",
       " '__getnewargs__',\n",
       " '__gt__',\n",
       " '__hash__',\n",
       " '__init__',\n",
       " '__init_subclass__',\n",
       " '__iter__',\n",
       " '__le__',\n",
       " '__len__',\n",
       " '__lt__',\n",
       " '__mul__',\n",
       " '__ne__',\n",
       " '__new__',\n",
       " '__reduce__',\n",
       " '__reduce_ex__',\n",
       " '__repr__',\n",
       " '__rmul__',\n",
       " '__setattr__',\n",
       " '__sizeof__',\n",
       " '__str__',\n",
       " '__subclasshook__',\n",
       " 'count',\n",
       " 'index']"
      ]
     },
     "execution_count": 47,
     "metadata": {},
     "output_type": "execute_result"
    }
   ],
   "source": [
    "dir(tuple)"
   ]
  },
  {
   "cell_type": "code",
   "execution_count": 49,
   "metadata": {},
   "outputs": [
    {
     "name": "stdout",
     "output_type": "stream",
     "text": [
      "Help on method_descriptor:\n",
      "\n",
      "append(self, object, /)\n",
      "    Append object to the end of the list.\n",
      "\n"
     ]
    }
   ],
   "source": [
    "help(list.append)"
   ]
  },
  {
   "cell_type": "code",
   "execution_count": 66,
   "metadata": {},
   "outputs": [],
   "source": [
    "nums = [1,2,3]"
   ]
  },
  {
   "cell_type": "code",
   "execution_count": 68,
   "metadata": {},
   "outputs": [],
   "source": [
    "nums.append(4)"
   ]
  },
  {
   "cell_type": "code",
   "execution_count": 70,
   "metadata": {},
   "outputs": [
    {
     "name": "stdout",
     "output_type": "stream",
     "text": [
      "[1, 2, 3, 4, 4]\n"
     ]
    }
   ],
   "source": [
    "print(nums)"
   ]
  },
  {
   "cell_type": "code",
   "execution_count": 74,
   "metadata": {},
   "outputs": [],
   "source": [
    "nums.insert(0,'0')"
   ]
  },
  {
   "cell_type": "code",
   "execution_count": 76,
   "metadata": {},
   "outputs": [
    {
     "name": "stdout",
     "output_type": "stream",
     "text": [
      "['0', 0, 0, 1, 2, 3, 4, 4]\n"
     ]
    }
   ],
   "source": [
    "print(nums)"
   ]
  },
  {
   "cell_type": "code",
   "execution_count": 85,
   "metadata": {},
   "outputs": [
    {
     "name": "stdout",
     "output_type": "stream",
     "text": [
      "0\n"
     ]
    }
   ],
   "source": [
    "print(nums.index('0'))"
   ]
  },
  {
   "cell_type": "code",
   "execution_count": 87,
   "metadata": {},
   "outputs": [
    {
     "data": {
      "text/plain": [
       "2"
      ]
     },
     "execution_count": 87,
     "metadata": {},
     "output_type": "execute_result"
    }
   ],
   "source": [
    "nums.count(4)"
   ]
  },
  {
   "cell_type": "code",
   "execution_count": 91,
   "metadata": {},
   "outputs": [
    {
     "name": "stdout",
     "output_type": "stream",
     "text": [
      "10\n",
      "20\n",
      "30\n",
      "40\n",
      "50\n"
     ]
    }
   ],
   "source": [
    "for i in range(10,51,10):\n",
    "    print(i)"
   ]
  },
  {
   "cell_type": "code",
   "execution_count": 92,
   "metadata": {},
   "outputs": [],
   "source": [
    "def frange(start, stop, step):\n",
    "    i = start\n",
    "    while i < stop:\n",
    "        yield i\n",
    "        i += step"
   ]
  },
  {
   "cell_type": "code",
   "execution_count": 94,
   "metadata": {},
   "outputs": [
    {
     "name": "stdout",
     "output_type": "stream",
     "text": [
      "0.5\n",
      "0.6\n",
      "0.7\n",
      "0.7999999999999999\n",
      "0.8999999999999999\n",
      "0.9999999999999999\n"
     ]
    }
   ],
   "source": [
    "for i in frange(.5,1,.1):\n",
    "    print(i)"
   ]
  },
  {
   "cell_type": "code",
   "execution_count": 96,
   "metadata": {},
   "outputs": [
    {
     "name": "stdout",
     "output_type": "stream",
     "text": [
      "P\n",
      "Y\n",
      "T\n",
      "H\n",
      "O\n",
      "N\n"
     ]
    }
   ],
   "source": [
    "for letter in 'PYTHON':\n",
    "    print(letter)"
   ]
  },
  {
   "cell_type": "code",
   "execution_count": 98,
   "metadata": {},
   "outputs": [],
   "source": [
    "def my_fun():\n",
    "    print(\"Nothing...\")"
   ]
  },
  {
   "cell_type": "code",
   "execution_count": 100,
   "metadata": {},
   "outputs": [
    {
     "name": "stdout",
     "output_type": "stream",
     "text": [
      "Nothing...\n",
      "None\n"
     ]
    }
   ],
   "source": [
    "print(my_fun())"
   ]
  },
  {
   "cell_type": "code",
   "execution_count": 101,
   "metadata": {},
   "outputs": [],
   "source": [
    "def my_func(x = None):\n",
    "    if x:\n",
    "        return x*x\n",
    "    else:\n",
    "        return 0"
   ]
  },
  {
   "cell_type": "code",
   "execution_count": 103,
   "metadata": {},
   "outputs": [
    {
     "name": "stdout",
     "output_type": "stream",
     "text": [
      "0\n"
     ]
    }
   ],
   "source": [
    "print(my_func())"
   ]
  },
  {
   "cell_type": "code",
   "execution_count": 106,
   "metadata": {},
   "outputs": [
    {
     "name": "stdout",
     "output_type": "stream",
     "text": [
      "25\n"
     ]
    }
   ],
   "source": [
    "print(my_func(5))"
   ]
  },
  {
   "cell_type": "code",
   "execution_count": 110,
   "metadata": {},
   "outputs": [],
   "source": [
    "my_marks = {\"Bangla\": [70,80,90], \"English\": [77,88,99], \"Math\": [100,90,95]}"
   ]
  },
  {
   "cell_type": "code",
   "execution_count": 114,
   "metadata": {},
   "outputs": [
    {
     "name": "stdout",
     "output_type": "stream",
     "text": [
      "[100, 90, 95]\n"
     ]
    }
   ],
   "source": [
    "print(my_marks[\"Math\"])"
   ]
  },
  {
   "cell_type": "code",
   "execution_count": 117,
   "metadata": {},
   "outputs": [],
   "source": [
    "my_dic = {1:'A', 2:'B', 3:'C'}"
   ]
  },
  {
   "cell_type": "code",
   "execution_count": 120,
   "metadata": {},
   "outputs": [
    {
     "name": "stdout",
     "output_type": "stream",
     "text": [
      "4 not in my dictionary!\n"
     ]
    }
   ],
   "source": [
    "print(my_dic.get(4, \"4 not in my dictionary!\"))"
   ]
  },
  {
   "cell_type": "code",
   "execution_count": 124,
   "metadata": {},
   "outputs": [],
   "source": [
    "a, b, *c, d = range(1,10)"
   ]
  },
  {
   "cell_type": "code",
   "execution_count": 127,
   "metadata": {},
   "outputs": [
    {
     "name": "stdout",
     "output_type": "stream",
     "text": [
      "[3, 4, 5, 6, 7, 8]\n"
     ]
    }
   ],
   "source": [
    "print(c)"
   ]
  },
  {
   "cell_type": "code",
   "execution_count": 155,
   "metadata": {},
   "outputs": [],
   "source": [
    "marks = [1,2,3,4,5,6,7,8,9]"
   ]
  },
  {
   "cell_type": "code",
   "execution_count": 157,
   "metadata": {},
   "outputs": [],
   "source": [
    "first_5_marks = marks[:5]"
   ]
  },
  {
   "cell_type": "code",
   "execution_count": 159,
   "metadata": {},
   "outputs": [
    {
     "name": "stdout",
     "output_type": "stream",
     "text": [
      "[1, 2, 3, 4, 5]\n"
     ]
    }
   ],
   "source": [
    "print(first_5_marks)"
   ]
  },
  {
   "cell_type": "code",
   "execution_count": 164,
   "metadata": {},
   "outputs": [
    {
     "name": "stdout",
     "output_type": "stream",
     "text": [
      "[6, 5, 4, 3, 2, 1]\n",
      "6\n"
     ]
    }
   ],
   "source": [
    "#list reverse\n",
    "my_list = [1,2,3,4,5,6]\n",
    "\n",
    "print(my_list[::-1])\n",
    "print(max(my_list))"
   ]
  },
  {
   "cell_type": "code",
   "execution_count": 167,
   "metadata": {},
   "outputs": [
    {
     "name": "stdout",
     "output_type": "stream",
     "text": [
      "[2, 4, 6, 8, 10]\n"
     ]
    }
   ],
   "source": [
    "my_list = [1,2,3,4,5,6,7,8,9,10]\n",
    "\n",
    "even_num_list = [even for even in my_list if even % 2 == 0]\n",
    "\n",
    "print(even_num_list)"
   ]
  },
  {
   "cell_type": "code",
   "execution_count": 174,
   "metadata": {},
   "outputs": [
    {
     "name": "stdout",
     "output_type": "stream",
     "text": [
      "[1, 2, 3, 4, 5, 6]\n"
     ]
    }
   ],
   "source": [
    "# 2D matrix to 1D matrix\n",
    "matrix_2D = [[1,2,3],\n",
    "            [4,5,6]]\n",
    "\n",
    "matrix_1D = [num for row in matrix_2D for num in row]\n",
    "\n",
    "print(matrix_1D)"
   ]
  },
  {
   "cell_type": "code",
   "execution_count": 178,
   "metadata": {},
   "outputs": [
    {
     "name": "stdout",
     "output_type": "stream",
     "text": [
      "Enter your sentence: How are you\n",
      "Hw r y\n"
     ]
    }
   ],
   "source": [
    "#remove vowels from sentence\n",
    "\n",
    "vowels = 'aeiou'\n",
    "\n",
    "sentence = input(\"Enter your sentence: \")\n",
    "\n",
    "output_sentence = ''.join([letter for letter in sentence if letter not in vowels])\n",
    "\n",
    "print(output_sentence)"
   ]
  },
  {
   "cell_type": "code",
   "execution_count": 182,
   "metadata": {},
   "outputs": [
    {
     "name": "stdout",
     "output_type": "stream",
     "text": [
      "{1: 'A', 2: 'B', 3: 'C', 4: 'D', 5: 'E'}\n"
     ]
    }
   ],
   "source": [
    "index = [1,2,3,4,5]\n",
    "grade = ['A', 'B', 'C', 'D', 'E']\n",
    "\n",
    "grade_dic = {index[i]: grade[i] for i in range(len(index))}\n",
    "\n",
    "print(grade_dic)"
   ]
  },
  {
   "cell_type": "code",
   "execution_count": null,
   "metadata": {},
   "outputs": [],
   "source": []
  },
  {
   "cell_type": "code",
   "execution_count": null,
   "metadata": {},
   "outputs": [],
   "source": []
  },
  {
   "cell_type": "code",
   "execution_count": null,
   "metadata": {},
   "outputs": [],
   "source": []
  },
  {
   "cell_type": "code",
   "execution_count": 184,
   "metadata": {},
   "outputs": [
    {
     "name": "stdout",
     "output_type": "stream",
     "text": [
      "{708: 2, 837: 2, 863: 1, 457: 2, 786: 2, 639: 2, 726: 1, 391: 3, 818: 2, 915: 1, 772: 1, 232: 2, 651: 2, 810: 1, 816: 1, 546: 2, 278: 3, 387: 1, 760: 1, 619: 1, 93: 1, 230: 2, 912: 2, 19: 1, 585: 4, 283: 1, 922: 2, 325: 4, 265: 3, 707: 2, 43: 1, 526: 3, 381: 2, 882: 2, 917: 1, 813: 1, 984: 2, 74: 2, 123: 2, 783: 1, 538: 2, 138: 2, 675: 1, 731: 1, 938: 1, 747: 1, 600: 2, 317: 1, 490: 1, 522: 1, 513: 1, 135: 1, 911: 3, 68: 2, 399: 1, 756: 2, 553: 3, 558: 3, 587: 1, 114: 1, 171: 1, 555: 3, 339: 2, 565: 1, 634: 3, 848: 1, 874: 1, 92: 1, 136: 1, 762: 1, 535: 1, 791: 2, 341: 4, 780: 1, 128: 2, 926: 2, 86: 2, 975: 3, 778: 1, 770: 1, 868: 1, 910: 3, 395: 2, 32: 3, 84: 1, 886: 2, 186: 1, 160: 1, 666: 1, 673: 2, 383: 1, 192: 1, 528: 4, 826: 1, 394: 2, 248: 2, 952: 3, 424: 1, 8: 3, 508: 1, 562: 3, 617: 1, 292: 2, 722: 1, 228: 1, 333: 2, 568: 3, 847: 3, 275: 2, 507: 1, 203: 3, 3: 3, 923: 1, 196: 4, 506: 1, 547: 4, 880: 3, 169: 1, 352: 2, 687: 1, 654: 2, 583: 3, 148: 1, 959: 2, 206: 2, 788: 2, 253: 1, 150: 1, 221: 3, 492: 1, 89: 2, 449: 1, 504: 1, 120: 1, 223: 2, 486: 2, 698: 3, 306: 3, 4: 2, 432: 2, 979: 2, 955: 1, 190: 3, 633: 1, 118: 1, 329: 2, 935: 1, 98: 2, 213: 2, 801: 3, 690: 1, 991: 1, 210: 1, 112: 1, 291: 1, 200: 1, 860: 2, 472: 1, 323: 1, 276: 3, 908: 2, 982: 1, 635: 4, 224: 2, 761: 1, 208: 4, 222: 3, 931: 2, 692: 1, 422: 1, 677: 1, 264: 2, 9: 1, 636: 2, 259: 1, 241: 3, 797: 1, 335: 3, 181: 1, 416: 2, 730: 2, 60: 4, 678: 2, 705: 2, 515: 3, 798: 2, 550: 1, 745: 1, 312: 1, 380: 1, 532: 3, 972: 1, 930: 1, 746: 1, 102: 3, 107: 3, 293: 3, 650: 1, 895: 4, 601: 2, 271: 1, 455: 1, 614: 2, 668: 1, 139: 1, 612: 2, 453: 1, 679: 1, 431: 2, 843: 2, 141: 1, 855: 2, 967: 1, 289: 3, 998: 2, 652: 1, 523: 2, 443: 1, 976: 3, 901: 1, 441: 1, 386: 1, 665: 1, 591: 1, 953: 1, 438: 1, 430: 2, 85: 2, 962: 1, 717: 3, 433: 1, 933: 3, 133: 2, 372: 1, 172: 3, 572: 3, 211: 4, 378: 2, 598: 2, 516: 1, 478: 2, 113: 2, 505: 2, 703: 1, 608: 2, 758: 1, 540: 1, 393: 2, 362: 1, 807: 1, 777: 1, 227: 2, 659: 1, 521: 1, 637: 2, 527: 1, 168: 1, 182: 1, 235: 3, 776: 4, 397: 1, 105: 1, 376: 2, 664: 1, 823: 2, 67: 2, 688: 1, 752: 2, 366: 1, 287: 1, 125: 1, 899: 1, 488: 2, 39: 5, 680: 6, 63: 1, 405: 3, 334: 1, 199: 3, 319: 1, 706: 1, 631: 1, 25: 1, 489: 2, 250: 3, 307: 4, 469: 1, 851: 1, 111: 1, 174: 3, 529: 1, 414: 1, 641: 1, 342: 2, 877: 2, 415: 3, 75: 2, 674: 1, 700: 3, 137: 1, 440: 1, 883: 2, 853: 1, 57: 2, 108: 1, 129: 2, 657: 2, 268: 3, 628: 2, 648: 2, 623: 2, 898: 2, 534: 1, 629: 2, 117: 2, 358: 1, 582: 1, 327: 1, 1: 1, 180: 1, 545: 1, 610: 1, 551: 1, 226: 2, 185: 1, 914: 2, 996: 2, 738: 1, 347: 1, 290: 1, 198: 1, 262: 1, 417: 1, 773: 2, 941: 2, 13: 1, 691: 1, 22: 1, 324: 1, 564: 1, 269: 2, 407: 2, 159: 1, 727: 1, 520: 2, 76: 2, 249: 4, 792: 1, 990: 3, 77: 2, 140: 2, 302: 2, 862: 2, 806: 2, 580: 1, 856: 1, 966: 3, 435: 1, 330: 3, 696: 3, 448: 1, 885: 2, 618: 1, 831: 4, 217: 1, 814: 2, 822: 3, 919: 3, 162: 2, 40: 6, 353: 2, 667: 2, 723: 1, 99: 1, 29: 1, 24: 1, 456: 1, 156: 2, 755: 1, 774: 1, 320: 1, 879: 1, 485: 1, 311: 3, 643: 2, 462: 1, 374: 1, 464: 3, 70: 2, 605: 1, 205: 1, 96: 1, 61: 2, 202: 1, 552: 2, 503: 1, 130: 2, 769: 2, 640: 1, 145: 1, 46: 2, 260: 1, 563: 4, 595: 2, 419: 2, 916: 1, 561: 1, 392: 1, 28: 2, 400: 1, 496: 2, 428: 2, 950: 1, 413: 1, 242: 1, 965: 2, 285: 2, 14: 1, 575: 1, 36: 1, 314: 1, 724: 3, 936: 1, 82: 1, 891: 1, 345: 2, 889: 1, 921: 1, 501: 1, 122: 2, 607: 1, 626: 1, 296: 1, 370: 1, 743: 1, 184: 1, 20: 2, 178: 2, 644: 1, 590: 2, 903: 2, 91: 1, 411: 2, 244: 1, 379: 1, 733: 1, 647: 1, 739: 1, 694: 1, 193: 3, 460: 1, 596: 2, 35: 2, 212: 1, 754: 2, 177: 1, 239: 1, 646: 1, 284: 1, 493: 1, 986: 1, 231: 1, 896: 1, 510: 1, 808: 1, 30: 1, 101: 2, 31: 1, 929: 1, 632: 1, 811: 1, 361: 1, 452: 1, 737: 1, 870: 1, 58: 1, 71: 2, 844: 2, 946: 1, 80: 1, 649: 3, 163: 2, 511: 1, 519: 1, 116: 2, 872: 1, 23: 1, 154: 2, 993: 1, 406: 1, 155: 2, 446: 1, 849: 1, 97: 2, 90: 2, 465: 1, 388: 3, 161: 1, 907: 1, 194: 1, 686: 1, 297: 1, 50: 1, 905: 1, 447: 2, 859: 1, 729: 1, 7: 3, 95: 1, 992: 1, 309: 1, 960: 1, 735: 1, 349: 1, 937: 2, 237: 2, 951: 1, 418: 1, 670: 1, 365: 2, 805: 1, 509: 1, 288: 1, 442: 1, 369: 2, 72: 1, 215: 2, 701: 1, 571: 1, 385: 1, 800: 1, 305: 1, 412: 1, 865: 1, 183: 2, 789: 1, 887: 2, 316: 1, 517: 1, 79: 1, 373: 1, 357: 1, 961: 1, 836: 1, 151: 2, 576: 1, 995: 1, 371: 3, 11: 1, 820: 2, 310: 1, 73: 1, 589: 1, 502: 2, 104: 2, 557: 1, 942: 1, 356: 1, 881: 1, 719: 1, 219: 1, 749: 1, 710: 1, 957: 1, 209: 1, 401: 1, 989: 1, 642: 1, 408: 1, 988: 2, 602: 1, 300: 2, 593: 1, 809: 1, 819: 1, 173: 1, 721: 1, 570: 2, 927: 1, 567: 1, 944: 1, 255: 1, 238: 1, 34: 1, 828: 1, 331: 1, 375: 1, 660: 1, 894: 1, 543: 1, 945: 1, 704: 1, 574: 1, 790: 1, 658: 1, 463: 1, 134: 1, 834: 1, 544: 1, 518: 1, 711: 1, 725: 1, 963: 1, 42: 1, 611: 1, 286: 1, 17: 1, 732: 1, 906: 2, 195: 1, 559: 1, 663: 1, 924: 1, 69: 1, 126: 1, 969: 1, 695: 1, 599: 1, 638: 1, 613: 1, 83: 1, 781: 1, 246: 1, 873: 1, 474: 1, 51: 1, 273: 1, 149: 1, 326: 1, 897: 1, 744: 1, 832: 1, 445: 1, 53: 1, 625: 1, 603: 1, 439: 1, 266: 1, 878: 1, 234: 1, 900: 1, 890: 1, 622: 1}\n"
     ]
    }
   ],
   "source": [
    "import random\n",
    "\n",
    "random_num_list = [random.randrange(1, 1000) for i in range (1000)]\n",
    "\n",
    "\n",
    "def CountFrequency(num_list):\n",
    "\n",
    "    frequency = {}\n",
    "    for num in num_list:\n",
    "        if(num in frequency):\n",
    "            frequency[num] += 1\n",
    "        else:\n",
    "            frequency[num] = 1\n",
    "\n",
    "    print(frequency)\n",
    "\n",
    "\n",
    "CountFrequency(random_num_list)"
   ]
  },
  {
   "cell_type": "code",
   "execution_count": 199,
   "metadata": {},
   "outputs": [],
   "source": [
    "import math"
   ]
  },
  {
   "cell_type": "code",
   "execution_count": 203,
   "metadata": {},
   "outputs": [
    {
     "name": "stdout",
     "output_type": "stream",
     "text": [
      "5.0\n"
     ]
    }
   ],
   "source": [
    "print(sqrt(25))"
   ]
  }
 ],
 "metadata": {
  "kernelspec": {
   "display_name": "Python 3.7.7 64-bit ('ner')",
   "language": "python",
   "name": "python37764bitner237568b580a342fda9ee7f8137fee10d"
  },
  "language_info": {
   "codemirror_mode": {
    "name": "ipython",
    "version": 3
   },
   "file_extension": ".py",
   "mimetype": "text/x-python",
   "name": "python",
   "nbconvert_exporter": "python",
   "pygments_lexer": "ipython3",
   "version": "3.7.7"
  }
 },
 "nbformat": 4,
 "nbformat_minor": 4
}
