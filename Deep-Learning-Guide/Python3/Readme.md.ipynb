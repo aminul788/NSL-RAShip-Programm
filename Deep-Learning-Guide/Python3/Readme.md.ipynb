{
 "cells": [
  {
   "cell_type": "markdown",
   "metadata": {},
   "source": [
    "# Python 3 Index"
   ]
  },
  {
   "cell_type": "markdown",
   "metadata": {},
   "source": [
    "### Part - 1:\n",
    "* List\n",
    "* None Type\n",
    "* Dictionary\n",
    "* Tuple\n",
    "* Set"
   ]
  },
  {
   "cell_type": "markdown",
   "metadata": {},
   "source": [
    "### Part - 2:\n",
    "* List Comprehension\n",
    "* Dictionary Comprehension"
   ]
  },
  {
   "cell_type": "markdown",
   "metadata": {},
   "source": [
    "### Part-3:\n",
    "* Iterators\n",
    "* Generatores"
   ]
  },
  {
   "cell_type": "markdown",
   "metadata": {},
   "source": [
    "### Part-4:\n",
    "* File I/O\n",
    "* os, walk, shutil, glob"
   ]
  },
  {
   "cell_type": "markdown",
   "metadata": {},
   "source": [
    "### Part-5:\n",
    "* Class & Object\n",
    "* Inheritance\n",
    "* Magic Method"
   ]
  },
  {
   "cell_type": "markdown",
   "metadata": {},
   "source": [
    "### Part-6:\n",
    "* Python Module Vs Package"
   ]
  },
  {
   "cell_type": "markdown",
   "metadata": {},
   "source": [
    "### References\n",
    "* https://python.howtocode.com.bd/\n",
    "* https://python.maateen.me/\n",
    "* https://docs.python.org/3/\n",
    "* https://automatetheboringstuff.com"
   ]
  }
 ],
 "metadata": {
  "kernelspec": {
   "display_name": "Python 3",
   "language": "python",
   "name": "python3"
  },
  "language_info": {
   "codemirror_mode": {
    "name": "ipython",
    "version": 3
   },
   "file_extension": ".py",
   "mimetype": "text/x-python",
   "name": "python",
   "nbconvert_exporter": "python",
   "pygments_lexer": "ipython3",
   "version": "3.8.3"
  }
 },
 "nbformat": 4,
 "nbformat_minor": 4
}
