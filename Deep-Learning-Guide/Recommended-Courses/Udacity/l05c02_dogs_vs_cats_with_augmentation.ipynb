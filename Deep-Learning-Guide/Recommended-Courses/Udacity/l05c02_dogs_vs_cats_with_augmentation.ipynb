{
  "nbformat": 4,
  "nbformat_minor": 0,
  "metadata": {
    "accelerator": "GPU",
    "colab": {
      "name": "l05c02_dogs_vs_cats_with_augmentation.ipynb",
      "provenance": [],
      "collapsed_sections": []
    },
    "kernelspec": {
      "display_name": "Python 3",
      "name": "python3"
    }
  },
  "cells": [
    {
      "cell_type": "markdown",
      "metadata": {
        "id": "TBFXQGKYUc4X"
      },
      "source": [
        "##### Copyright 2019 The TensorFlow Authors."
      ]
    },
    {
      "cell_type": "code",
      "metadata": {
        "cellView": "form",
        "id": "1z4xy2gTUc4a"
      },
      "source": [
        "#@title Licensed under the Apache License, Version 2.0 (the \"License\");\n",
        "# you may not use this file except in compliance with the License.\n",
        "# You may obtain a copy of the License at\n",
        "#\n",
        "# https://www.apache.org/licenses/LICENSE-2.0\n",
        "#\n",
        "# Unless required by applicable law or agreed to in writing, software\n",
        "# distributed under the License is distributed on an \"AS IS\" BASIS,\n",
        "# WITHOUT WARRANTIES OR CONDITIONS OF ANY KIND, either express or implied.\n",
        "# See the License for the specific language governing permissions and\n",
        "# limitations under the License."
      ],
      "execution_count": null,
      "outputs": []
    },
    {
      "cell_type": "markdown",
      "metadata": {
        "id": "FE7KNzPPVrVV"
      },
      "source": [
        "# Dogs vs Cats Image Classification With Image Augmentation"
      ]
    },
    {
      "cell_type": "markdown",
      "metadata": {
        "id": "KwQtSOz0VrVX"
      },
      "source": [
        "<table class=\"tfo-notebook-buttons\" align=\"left\">\n",
        "  <td>\n",
        "    <a target=\"_blank\" href=\"https://colab.research.google.com/github/tensorflow/examples/blob/master/courses/udacity_intro_to_tensorflow_for_deep_learning/l05c02_dogs_vs_cats_with_augmentation.ipynb\"><img src=\"https://www.tensorflow.org/images/colab_logo_32px.png\" />Run in Google Colab</a>\n",
        "  </td>\n",
        "  <td>\n",
        "    <a target=\"_blank\" href=\"https://github.com/tensorflow/examples/blob/master/courses/udacity_intro_to_tensorflow_for_deep_learning/l05c02_dogs_vs_cats_with_augmentation.ipynb\"><img src=\"https://www.tensorflow.org/images/GitHub-Mark-32px.png\" />View source on GitHub</a>\n",
        "  </td>\n",
        "</table>"
      ]
    },
    {
      "cell_type": "markdown",
      "metadata": {
        "id": "gN7G9GFmVrVY"
      },
      "source": [
        "In this tutorial, we will discuss how to classify images into pictures of cats or pictures of dogs. We'll build an image classifier using `tf.keras.Sequential` model and load data using `tf.keras.preprocessing.image.ImageDataGenerator`.\n",
        "\n",
        "## Specific concepts that will be covered:\n",
        "In the process, we will build practical experience and develop intuition around the following concepts\n",
        "\n",
        "* Building _data input pipelines_ using the `tf.keras.preprocessing.image.ImageDataGenerator` class — How can we efficiently work with data on disk to interface with our model?\n",
        "* _Overfitting_ - what is it, how to identify it, and how can we prevent it?\n",
        "* _Data Augmentation_ and _Dropout_ - Key techniques to fight overfitting in computer vision tasks that we will incorporate into our data pipeline and image classifier model.\n",
        "\n",
        "## We will follow the general machine learning workflow:\n",
        "\n",
        "1. Examine and understand data\n",
        "2. Build an input pipeline\n",
        "3. Build our model\n",
        "4. Train our model\n",
        "5. Test our model\n",
        "6. Improve our model/Repeat the process\n",
        "\n",
        "<hr>\n",
        "\n",
        "**Before you begin**\n",
        "\n",
        "Before running the code in this notebook, reset the runtime by going to **Runtime -> Reset all runtimes** in the menu above. If you have been working through several notebooks, this will help you avoid reaching Colab's memory limits.\n"
      ]
    },
    {
      "cell_type": "markdown",
      "metadata": {
        "id": "zF9uvbXNVrVY"
      },
      "source": [
        "# Importing packages"
      ]
    },
    {
      "cell_type": "markdown",
      "metadata": {
        "id": "VddxeYBEVrVZ"
      },
      "source": [
        "Let's start by importing required packages:\n",
        "\n",
        "*   os — to read files and directory structure\n",
        "*   numpy — for some matrix math outside of TensorFlow\n",
        "*   matplotlib.pyplot — to plot the graph and display images in our training and validation data"
      ]
    },
    {
      "cell_type": "code",
      "metadata": {
        "id": "in3OdvpUG_9_"
      },
      "source": [
        "import tensorflow as tf"
      ],
      "execution_count": null,
      "outputs": []
    },
    {
      "cell_type": "code",
      "metadata": {
        "id": "L1WtoaOHVrVh"
      },
      "source": [
        "from tensorflow.keras.preprocessing.image import ImageDataGenerator"
      ],
      "execution_count": null,
      "outputs": []
    },
    {
      "cell_type": "code",
      "metadata": {
        "id": "ede3_kbeHOjR"
      },
      "source": [
        "import os\n",
        "import numpy as np\n",
        "import matplotlib.pyplot as plt"
      ],
      "execution_count": null,
      "outputs": []
    },
    {
      "cell_type": "markdown",
      "metadata": {
        "id": "UZZI6lNkVrVm"
      },
      "source": [
        "# Data Loading"
      ]
    },
    {
      "cell_type": "markdown",
      "metadata": {
        "id": "DPHx8-t-VrVo"
      },
      "source": [
        "To build our image classifier, we begin by downloading the dataset. The dataset we are using is a filtered version of <a href=\"https://www.kaggle.com/c/dogs-vs-cats/data\" target=\"_blank\">Dogs vs. Cats</a> dataset from Kaggle (ultimately, this dataset is provided by Microsoft Research).\n",
        "\n",
        "In previous Colabs, we've used <a href=\"https://www.tensorflow.org/datasets\" target=\"_blank\">TensorFlow Datasets</a>, which is a very easy and convenient way to use datasets. In this Colab however, we will make use of the class `tf.keras.preprocessing.image.ImageDataGenerator` which will read data from disk. We therefore need to directly download *Dogs vs. Cats* from a URL and unzip it to the Colab filesystem."
      ]
    },
    {
      "cell_type": "code",
      "metadata": {
        "id": "OYmOylPlVrVt"
      },
      "source": [
        "_URL = 'https://storage.googleapis.com/mledu-datasets/cats_and_dogs_filtered.zip'\n",
        "\n",
        "zip_dir = tf.keras.utils.get_file('cats_and_dogs_filterted.zip', origin=_URL, extract=True)"
      ],
      "execution_count": null,
      "outputs": []
    },
    {
      "cell_type": "markdown",
      "metadata": {
        "id": "Giv0wMQzVrVw"
      },
      "source": [
        "The dataset we have downloaded has following directory structure.\n",
        "\n",
        "<pre style=\"font-size: 10.0pt; font-family: Arial; line-height: 2; letter-spacing: 1.0pt;\" >\n",
        "<b>cats_and_dogs_filtered</b>\n",
        "|__ <b>train</b>\n",
        "    |______ <b>cats</b>: [cat.0.jpg, cat.1.jpg, cat.2.jpg ....]\n",
        "    |______ <b>dogs</b>: [dog.0.jpg, dog.1.jpg, dog.2.jpg ...]\n",
        "|__ <b>validation</b>\n",
        "    |______ <b>cats</b>: [cat.2000.jpg, cat.2001.jpg, cat.2002.jpg ....]\n",
        "    |______ <b>dogs</b>: [dog.2000.jpg, dog.2001.jpg, dog.2002.jpg ...]\n",
        "</pre>"
      ]
    },
    {
      "cell_type": "markdown",
      "metadata": {
        "id": "VpmywIlsVrVx"
      },
      "source": [
        "We'll now assign variables with the proper file path for the training and validation sets."
      ]
    },
    {
      "cell_type": "code",
      "metadata": {
        "id": "sRucI3QqVrVy"
      },
      "source": [
        "base_dir = os.path.join(os.path.dirname(zip_dir), 'cats_and_dogs_filtered')\n",
        "train_dir = os.path.join(base_dir, 'train')\n",
        "validation_dir = os.path.join(base_dir, 'validation')"
      ],
      "execution_count": null,
      "outputs": []
    },
    {
      "cell_type": "code",
      "metadata": {
        "id": "Utv3nryxVrV0"
      },
      "source": [
        "train_cats_dir = os.path.join(train_dir, 'cats')  # directory with our training cat pictures\n",
        "train_dogs_dir = os.path.join(train_dir, 'dogs')  # directory with our training dog pictures\n",
        "validation_cats_dir = os.path.join(validation_dir, 'cats')  # directory with our validation cat pictures\n",
        "validation_dogs_dir = os.path.join(validation_dir, 'dogs')  # directory with our validation dog pictures"
      ],
      "execution_count": null,
      "outputs": []
    },
    {
      "cell_type": "markdown",
      "metadata": {
        "id": "ZdrHHTy2VrV3"
      },
      "source": [
        "### Understanding our data"
      ]
    },
    {
      "cell_type": "markdown",
      "metadata": {
        "id": "LblUYjl-VrV3"
      },
      "source": [
        "Let's look at how many cats and dogs images we have in our training and validation directory"
      ]
    },
    {
      "cell_type": "code",
      "metadata": {
        "id": "vc4u8e9hVrV4"
      },
      "source": [
        "num_cats_tr = len(os.listdir(train_cats_dir))\n",
        "num_dogs_tr = len(os.listdir(train_dogs_dir))\n",
        "\n",
        "num_cats_val = len(os.listdir(validation_cats_dir))\n",
        "num_dogs_val = len(os.listdir(validation_dogs_dir))\n",
        "\n",
        "total_train = num_cats_tr + num_dogs_tr\n",
        "total_val = num_cats_val + num_dogs_val"
      ],
      "execution_count": null,
      "outputs": []
    },
    {
      "cell_type": "code",
      "metadata": {
        "id": "g4GGzGt0VrV7"
      },
      "source": [
        "print('total training cat images:', num_cats_tr)\n",
        "print('total training dog images:', num_dogs_tr)\n",
        "\n",
        "print('total validation cat images:', num_cats_val)\n",
        "print('total validation dog images:', num_dogs_val)\n",
        "print(\"--\")\n",
        "print(\"Total training images:\", total_train)\n",
        "print(\"Total validation images:\", total_val)"
      ],
      "execution_count": null,
      "outputs": []
    },
    {
      "cell_type": "markdown",
      "metadata": {
        "id": "tdsI_L-NVrV_"
      },
      "source": [
        "# Setting Model Parameters"
      ]
    },
    {
      "cell_type": "markdown",
      "metadata": {
        "id": "8Lp-0ejxOtP1"
      },
      "source": [
        "For convenience, let us set up variables that will be used later while pre-processing our dataset and training our network."
      ]
    },
    {
      "cell_type": "code",
      "metadata": {
        "id": "3NqNselLVrWA"
      },
      "source": [
        "BATCH_SIZE = 100\n",
        "IMG_SHAPE  = 150 # Our training data consists of images with width of 150 pixels and height of 150 pixels"
      ],
      "execution_count": null,
      "outputs": []
    },
    {
      "cell_type": "markdown",
      "metadata": {
        "id": "RLciCR_FVrWH"
      },
      "source": [
        "After defining our generators for training and validation images, **flow_from_directory** method will load images from the disk and will apply rescaling and will resize them into required dimensions using single line of code."
      ]
    },
    {
      "cell_type": "markdown",
      "metadata": {
        "id": "UOoVpxFwVrWy"
      },
      "source": [
        "# Data Augmentation"
      ]
    },
    {
      "cell_type": "markdown",
      "metadata": {
        "id": "Wn_QLciWVrWy"
      },
      "source": [
        "Overfitting often occurs when we have a small number of training examples. One way to fix this problem is to augment our dataset so that it has sufficient number and variety of training examples. Data augmentation takes the approach of generating more training data from existing training samples, by augmenting the samples through random transformations that yield believable-looking images. The goal is that at training time, your model will never see the exact same picture twice. This exposes the model to more aspects of the data, allowing it to generalize better.\n",
        "\n",
        "In **tf.keras** we can implement this using the same **ImageDataGenerator** class we used before. We can simply pass different transformations we would want to our dataset as a form of arguments and it will take care of applying it to the dataset during our training process.\n",
        "\n",
        "To start off, let's define a function that can display an image, so we can see the type of augmentation that has been performed. Then, we'll look at specific augmentations that we'll use during training."
      ]
    },
    {
      "cell_type": "code",
      "metadata": {
        "id": "GBYLOFgOXPJ9"
      },
      "source": [
        "# This function will plot images in the form of a grid with 1 row and 5 columns where images are placed in each column.\n",
        "def plotImages(images_arr):\n",
        "    fig, axes = plt.subplots(1, 5, figsize=(20,20))\n",
        "    axes = axes.flatten()\n",
        "    for img, ax in zip(images_arr, axes):\n",
        "        ax.imshow(img)\n",
        "    plt.tight_layout()\n",
        "    plt.show()"
      ],
      "execution_count": null,
      "outputs": []
    },
    {
      "cell_type": "markdown",
      "metadata": {
        "id": "rlVj6VqaVrW0"
      },
      "source": [
        "### Flipping the image horizontally"
      ]
    },
    {
      "cell_type": "markdown",
      "metadata": {
        "id": "xcdvx4TVVrW1"
      },
      "source": [
        "We can begin by randomly applying horizontal flip augmentation to our dataset and seeing how individual images will look after the transformation. This is achieved by passing `horizontal_flip=True` as an argument to the `ImageDataGenerator` class."
      ]
    },
    {
      "cell_type": "code",
      "metadata": {
        "id": "Bi1_vHyBVrW2"
      },
      "source": [
        "image_gen = ImageDataGenerator(rescale=1./255, horizontal_flip=True)\n",
        "\n",
        "train_data_gen = image_gen.flow_from_directory(batch_size=BATCH_SIZE,\n",
        "                                               directory=train_dir,\n",
        "                                               shuffle=True,\n",
        "                                               target_size=(IMG_SHAPE,IMG_SHAPE))"
      ],
      "execution_count": null,
      "outputs": []
    },
    {
      "cell_type": "markdown",
      "metadata": {
        "id": "zJpRSxJ-VrW7"
      },
      "source": [
        "To see the transformation in action, let's take one sample image from our training set and repeat it five times. The augmentation will be randomly applied (or not) to each repetition."
      ]
    },
    {
      "cell_type": "code",
      "metadata": {
        "id": "RrKGd_jjVrW7"
      },
      "source": [
        "augmented_images = [train_data_gen[0][0][0] for i in range(5)]\n",
        "plotImages(augmented_images)"
      ],
      "execution_count": null,
      "outputs": []
    },
    {
      "cell_type": "markdown",
      "metadata": {
        "id": "i7n9xcqCVrXB"
      },
      "source": [
        "### Rotating the image"
      ]
    },
    {
      "cell_type": "markdown",
      "metadata": {
        "id": "qXnwkzFuVrXB"
      },
      "source": [
        "The rotation augmentation will randomly rotate the image up to a specified number of degrees. Here, we'll set it to 45."
      ]
    },
    {
      "cell_type": "code",
      "metadata": {
        "id": "1zip35pDVrXB"
      },
      "source": [
        "image_gen = ImageDataGenerator(rescale=1./255, rotation_range=45)\n",
        "\n",
        "train_data_gen = image_gen.flow_from_directory(batch_size=BATCH_SIZE,\n",
        "                                               directory=train_dir,\n",
        "                                               shuffle=True,\n",
        "                                               target_size=(IMG_SHAPE, IMG_SHAPE))"
      ],
      "execution_count": null,
      "outputs": []
    },
    {
      "cell_type": "markdown",
      "metadata": {
        "id": "deaqZLsfcZ15"
      },
      "source": [
        "To see the transformation in action, let's once again take a sample image from our training set and repeat it. The augmentation will be randomly applied (or not) to each repetition."
      ]
    },
    {
      "cell_type": "code",
      "metadata": {
        "id": "kVoWh4OIVrXD"
      },
      "source": [
        "augmented_images = [train_data_gen[0][0][0] for i in range(5)]\n",
        "plotImages(augmented_images)"
      ],
      "execution_count": null,
      "outputs": []
    },
    {
      "cell_type": "markdown",
      "metadata": {
        "id": "FOqGPL76VrXM"
      },
      "source": [
        "### Applying Zoom"
      ]
    },
    {
      "cell_type": "markdown",
      "metadata": {
        "id": "NvqXaD8BVrXN"
      },
      "source": [
        "We can also apply Zoom augmentation to our dataset, zooming images up to 50% randomly."
      ]
    },
    {
      "cell_type": "code",
      "metadata": {
        "id": "tGNKLa_YVrXR"
      },
      "source": [
        "image_gen = ImageDataGenerator(rescale=1./255, zoom_range=0.5)\n",
        "\n",
        "train_data_gen = image_gen.flow_from_directory(batch_size=BATCH_SIZE,\n",
        "                                               directory=train_dir,\n",
        "                                               shuffle=True,\n",
        "                                               target_size=(IMG_SHAPE, IMG_SHAPE))\n"
      ],
      "execution_count": null,
      "outputs": []
    },
    {
      "cell_type": "markdown",
      "metadata": {
        "id": "WgPWieSZcctO"
      },
      "source": [
        "One more time, take a sample image from our training set and repeat it. The augmentation will be randomly applied (or not) to each repetition."
      ]
    },
    {
      "cell_type": "code",
      "metadata": {
        "id": "VOvTs32FVrXU"
      },
      "source": [
        "augmented_images = [train_data_gen[0][0][0] for i in range(5)]\n",
        "plotImages(augmented_images)"
      ],
      "execution_count": null,
      "outputs": []
    },
    {
      "cell_type": "markdown",
      "metadata": {
        "id": "usS13KCNVrXd"
      },
      "source": [
        "### Putting it all together"
      ]
    },
    {
      "cell_type": "markdown",
      "metadata": {
        "id": "OC8fIsalVrXd"
      },
      "source": [
        "We can apply all these augmentations, and even others, with just one line of code, by passing the augmentations as arguments with proper values.\n",
        "\n",
        "Here, we have applied rescale, rotation of 45 degrees, width shift, height shift, horizontal flip, and zoom augmentation to our training images."
      ]
    },
    {
      "cell_type": "code",
      "metadata": {
        "id": "gnr2xujaVrXe"
      },
      "source": [
        "image_gen_train = ImageDataGenerator(\n",
        "      rescale=1./255,\n",
        "      rotation_range=40,\n",
        "      width_shift_range=0.2,\n",
        "      height_shift_range=0.2,\n",
        "      shear_range=0.2,\n",
        "      zoom_range=0.2,\n",
        "      horizontal_flip=True,\n",
        "      fill_mode='nearest')\n",
        "\n",
        "train_data_gen = image_gen_train.flow_from_directory(batch_size=BATCH_SIZE,\n",
        "                                                     directory=train_dir,\n",
        "                                                     shuffle=True,\n",
        "                                                     target_size=(IMG_SHAPE,IMG_SHAPE),\n",
        "                                                     class_mode='binary')"
      ],
      "execution_count": null,
      "outputs": []
    },
    {
      "cell_type": "markdown",
      "metadata": {
        "id": "AW-pV5awVrXl"
      },
      "source": [
        "Let's visualize how a single image would look like five different times, when we pass these augmentations randomly to our dataset. "
      ]
    },
    {
      "cell_type": "code",
      "metadata": {
        "id": "z2m68eMhVrXm"
      },
      "source": [
        "augmented_images = [train_data_gen[0][0][0] for i in range(5)]\n",
        "plotImages(augmented_images)"
      ],
      "execution_count": null,
      "outputs": []
    },
    {
      "cell_type": "markdown",
      "metadata": {
        "id": "J8cUd7FXVrXq"
      },
      "source": [
        "### Creating Validation Data generator"
      ]
    },
    {
      "cell_type": "markdown",
      "metadata": {
        "id": "a99fDBt7VrXr"
      },
      "source": [
        "Generally, we only apply data augmentation to our training examples, since the original images should be representative of what our model needs to manage. So, in this case we are only rescaling our validation images and converting them into batches using ImageDataGenerator."
      ]
    },
    {
      "cell_type": "code",
      "metadata": {
        "id": "54x0aNbKVrXr"
      },
      "source": [
        "image_gen_val = ImageDataGenerator(rescale=1./255)\n",
        "\n",
        "val_data_gen = image_gen_val.flow_from_directory(batch_size=BATCH_SIZE,\n",
        "                                                 directory=validation_dir,\n",
        "                                                 target_size=(IMG_SHAPE, IMG_SHAPE),\n",
        "                                                 class_mode='binary')"
      ],
      "execution_count": null,
      "outputs": []
    },
    {
      "cell_type": "markdown",
      "metadata": {
        "id": "b5Ej-HLGVrWZ"
      },
      "source": [
        "# Model Creation"
      ]
    },
    {
      "cell_type": "markdown",
      "metadata": {
        "id": "wEgW4i18VrWZ"
      },
      "source": [
        "## Define the model\n",
        "\n",
        "The model consists of four convolution blocks with a max pool layer in each of them.\n",
        "\n",
        "Before the final Dense layers, we're also applying a Dropout probability of 0.5. It means that 50% of the values coming into the Dropout layer will be set to zero. This helps to prevent overfitting.\n",
        "\n",
        "Then we have a fully connected layer with 512 units, with a `relu` activation function. The model will output class probabilities for two classes — dogs and cats — using `softmax`. "
      ]
    },
    {
      "cell_type": "code",
      "metadata": {
        "cellView": "both",
        "id": "Evjf8jZk2zi-"
      },
      "source": [
        "model = tf.keras.models.Sequential([\n",
        "    tf.keras.layers.Conv2D(32, (3,3), activation='relu', input_shape=(150, 150, 3)),\n",
        "    tf.keras.layers.MaxPooling2D(2, 2),\n",
        "\n",
        "    tf.keras.layers.Conv2D(64, (3,3), activation='relu'),\n",
        "    tf.keras.layers.MaxPooling2D(2,2),\n",
        "\n",
        "    tf.keras.layers.Conv2D(128, (3,3), activation='relu'),\n",
        "    tf.keras.layers.MaxPooling2D(2,2),\n",
        "\n",
        "    tf.keras.layers.Conv2D(128, (3,3), activation='relu'),\n",
        "    tf.keras.layers.MaxPooling2D(2,2),\n",
        "\n",
        "    tf.keras.layers.Dropout(0.5),\n",
        "    tf.keras.layers.Flatten(),\n",
        "    tf.keras.layers.Dense(512, activation='relu'),\n",
        "    tf.keras.layers.Dense(2)\n",
        "])"
      ],
      "execution_count": null,
      "outputs": []
    },
    {
      "cell_type": "markdown",
      "metadata": {
        "id": "DADWLqMSJcH3"
      },
      "source": [
        "### Compiling the model\n",
        "\n",
        "As usual, we will use the `adam` optimizer. Since we output a softmax categorization, we'll use `sparse_categorical_crossentropy` as the loss function. We would also like to look at training and validation accuracy on each epoch as we train our network, so we are passing in the metrics argument."
      ]
    },
    {
      "cell_type": "code",
      "metadata": {
        "id": "08rRJ0sn3Tb1"
      },
      "source": [
        "model.compile(optimizer='adam',\n",
        "              loss=tf.keras.losses.SparseCategoricalCrossentropy(from_logits=True),\n",
        "              metrics=['accuracy'])"
      ],
      "execution_count": null,
      "outputs": []
    },
    {
      "cell_type": "markdown",
      "metadata": {
        "id": "uurnCp_H4Hj9"
      },
      "source": [
        "### Model Summary\n",
        "\n",
        "Let's look at all the layers of our network using **summary** method."
      ]
    },
    {
      "cell_type": "code",
      "metadata": {
        "id": "b66qAJF_4Jnw"
      },
      "source": [
        "model.summary()"
      ],
      "execution_count": null,
      "outputs": []
    },
    {
      "cell_type": "markdown",
      "metadata": {
        "id": "N06iqE8VVrWj"
      },
      "source": [
        "### Train the model"
      ]
    },
    {
      "cell_type": "markdown",
      "metadata": {
        "id": "oub9RtoFVrWk"
      },
      "source": [
        "It's time we train our network.\n",
        "\n",
        "Since our batches are coming from a generator (`ImageDataGenerator`), we'll use `fit_generator` instead of `fit`."
      ]
    },
    {
      "cell_type": "code",
      "metadata": {
        "id": "tk5NT1PW3j_P",
        "outputId": "f9445c3b-4c89-48ed-845b-7ee165b70279",
        "colab": {
          "base_uri": "https://localhost:8080/"
        }
      },
      "source": [
        "epochs=100\n",
        "history = model.fit_generator(\n",
        "    train_data_gen,\n",
        "    steps_per_epoch=int(np.ceil(total_train / float(BATCH_SIZE))),\n",
        "    epochs=epochs,\n",
        "    validation_data=val_data_gen,\n",
        "    validation_steps=int(np.ceil(total_val / float(BATCH_SIZE)))\n",
        ")"
      ],
      "execution_count": 25,
      "outputs": [
        {
          "output_type": "stream",
          "text": [
            "/usr/local/lib/python3.6/dist-packages/tensorflow/python/keras/engine/training.py:1844: UserWarning: `Model.fit_generator` is deprecated and will be removed in a future version. Please use `Model.fit`, which supports generators.\n",
            "  warnings.warn('`Model.fit_generator` is deprecated and '\n"
          ],
          "name": "stderr"
        },
        {
          "output_type": "stream",
          "text": [
            "Epoch 1/100\n",
            "20/20 [==============================] - 25s 891ms/step - loss: 0.7533 - accuracy: 0.5018 - val_loss: 0.6906 - val_accuracy: 0.5850\n",
            "Epoch 2/100\n",
            "20/20 [==============================] - 18s 894ms/step - loss: 0.6927 - accuracy: 0.5242 - val_loss: 0.6868 - val_accuracy: 0.5910\n",
            "Epoch 3/100\n",
            "20/20 [==============================] - 18s 888ms/step - loss: 0.6859 - accuracy: 0.5359 - val_loss: 0.6744 - val_accuracy: 0.6160\n",
            "Epoch 4/100\n",
            "20/20 [==============================] - 18s 899ms/step - loss: 0.6719 - accuracy: 0.5936 - val_loss: 0.6871 - val_accuracy: 0.5290\n",
            "Epoch 5/100\n",
            "20/20 [==============================] - 18s 893ms/step - loss: 0.6695 - accuracy: 0.6043 - val_loss: 0.6479 - val_accuracy: 0.6240\n",
            "Epoch 6/100\n",
            "20/20 [==============================] - 18s 893ms/step - loss: 0.6557 - accuracy: 0.6143 - val_loss: 0.6392 - val_accuracy: 0.6310\n",
            "Epoch 7/100\n",
            "20/20 [==============================] - 18s 895ms/step - loss: 0.6374 - accuracy: 0.6514 - val_loss: 0.6140 - val_accuracy: 0.6620\n",
            "Epoch 8/100\n",
            "20/20 [==============================] - 18s 890ms/step - loss: 0.6315 - accuracy: 0.6705 - val_loss: 0.6065 - val_accuracy: 0.6690\n",
            "Epoch 9/100\n",
            "20/20 [==============================] - 18s 894ms/step - loss: 0.6479 - accuracy: 0.6345 - val_loss: 0.6342 - val_accuracy: 0.6220\n",
            "Epoch 10/100\n",
            "20/20 [==============================] - 18s 886ms/step - loss: 0.6004 - accuracy: 0.6816 - val_loss: 0.5857 - val_accuracy: 0.6700\n",
            "Epoch 11/100\n",
            "20/20 [==============================] - 18s 891ms/step - loss: 0.6261 - accuracy: 0.6626 - val_loss: 0.5599 - val_accuracy: 0.6930\n",
            "Epoch 12/100\n",
            "20/20 [==============================] - 18s 890ms/step - loss: 0.5789 - accuracy: 0.7032 - val_loss: 0.6133 - val_accuracy: 0.6520\n",
            "Epoch 13/100\n",
            "20/20 [==============================] - 18s 906ms/step - loss: 0.6343 - accuracy: 0.6492 - val_loss: 0.5667 - val_accuracy: 0.7130\n",
            "Epoch 14/100\n",
            "20/20 [==============================] - 18s 883ms/step - loss: 0.5920 - accuracy: 0.7017 - val_loss: 0.5646 - val_accuracy: 0.7180\n",
            "Epoch 15/100\n",
            "20/20 [==============================] - 18s 888ms/step - loss: 0.6042 - accuracy: 0.6858 - val_loss: 0.5485 - val_accuracy: 0.7310\n",
            "Epoch 16/100\n",
            "20/20 [==============================] - 18s 887ms/step - loss: 0.5852 - accuracy: 0.6939 - val_loss: 0.5366 - val_accuracy: 0.7310\n",
            "Epoch 17/100\n",
            "20/20 [==============================] - 18s 883ms/step - loss: 0.5642 - accuracy: 0.6975 - val_loss: 0.6030 - val_accuracy: 0.6650\n",
            "Epoch 18/100\n",
            "20/20 [==============================] - 18s 890ms/step - loss: 0.5688 - accuracy: 0.7087 - val_loss: 0.5196 - val_accuracy: 0.7380\n",
            "Epoch 19/100\n",
            "20/20 [==============================] - 18s 886ms/step - loss: 0.5565 - accuracy: 0.7205 - val_loss: 0.5162 - val_accuracy: 0.7390\n",
            "Epoch 20/100\n",
            "20/20 [==============================] - 18s 890ms/step - loss: 0.5465 - accuracy: 0.7202 - val_loss: 0.5235 - val_accuracy: 0.7390\n",
            "Epoch 21/100\n",
            "20/20 [==============================] - 18s 892ms/step - loss: 0.5795 - accuracy: 0.6918 - val_loss: 0.5531 - val_accuracy: 0.7240\n",
            "Epoch 22/100\n",
            "20/20 [==============================] - 18s 891ms/step - loss: 0.5327 - accuracy: 0.7415 - val_loss: 0.4973 - val_accuracy: 0.7630\n",
            "Epoch 23/100\n",
            "20/20 [==============================] - 18s 887ms/step - loss: 0.5296 - accuracy: 0.7385 - val_loss: 0.5080 - val_accuracy: 0.7510\n",
            "Epoch 24/100\n",
            "20/20 [==============================] - 18s 889ms/step - loss: 0.5295 - accuracy: 0.7463 - val_loss: 0.5086 - val_accuracy: 0.7620\n",
            "Epoch 25/100\n",
            "20/20 [==============================] - 18s 893ms/step - loss: 0.5075 - accuracy: 0.7509 - val_loss: 0.4981 - val_accuracy: 0.7600\n",
            "Epoch 26/100\n",
            "20/20 [==============================] - 18s 886ms/step - loss: 0.5168 - accuracy: 0.7511 - val_loss: 0.5114 - val_accuracy: 0.7440\n",
            "Epoch 27/100\n",
            "20/20 [==============================] - 18s 887ms/step - loss: 0.5106 - accuracy: 0.7590 - val_loss: 0.4809 - val_accuracy: 0.7680\n",
            "Epoch 28/100\n",
            "20/20 [==============================] - 18s 881ms/step - loss: 0.4876 - accuracy: 0.7784 - val_loss: 0.4815 - val_accuracy: 0.7710\n",
            "Epoch 29/100\n",
            "20/20 [==============================] - 18s 887ms/step - loss: 0.5009 - accuracy: 0.7495 - val_loss: 0.5246 - val_accuracy: 0.7260\n",
            "Epoch 30/100\n",
            "20/20 [==============================] - 18s 893ms/step - loss: 0.5007 - accuracy: 0.7583 - val_loss: 0.4841 - val_accuracy: 0.7760\n",
            "Epoch 31/100\n",
            "20/20 [==============================] - 18s 901ms/step - loss: 0.5071 - accuracy: 0.7555 - val_loss: 0.4953 - val_accuracy: 0.7690\n",
            "Epoch 32/100\n",
            "20/20 [==============================] - 18s 889ms/step - loss: 0.5046 - accuracy: 0.7645 - val_loss: 0.4855 - val_accuracy: 0.7640\n",
            "Epoch 33/100\n",
            "20/20 [==============================] - 18s 890ms/step - loss: 0.4987 - accuracy: 0.7524 - val_loss: 0.4824 - val_accuracy: 0.7720\n",
            "Epoch 34/100\n",
            "20/20 [==============================] - 18s 888ms/step - loss: 0.4996 - accuracy: 0.7533 - val_loss: 0.4788 - val_accuracy: 0.7750\n",
            "Epoch 35/100\n",
            "20/20 [==============================] - 18s 881ms/step - loss: 0.4892 - accuracy: 0.7532 - val_loss: 0.4674 - val_accuracy: 0.7870\n",
            "Epoch 36/100\n",
            "20/20 [==============================] - 18s 886ms/step - loss: 0.4935 - accuracy: 0.7650 - val_loss: 0.4803 - val_accuracy: 0.7750\n",
            "Epoch 37/100\n",
            "20/20 [==============================] - 18s 890ms/step - loss: 0.5100 - accuracy: 0.7381 - val_loss: 0.4940 - val_accuracy: 0.7580\n",
            "Epoch 38/100\n",
            "20/20 [==============================] - 18s 888ms/step - loss: 0.4902 - accuracy: 0.7638 - val_loss: 0.4736 - val_accuracy: 0.7820\n",
            "Epoch 39/100\n",
            "20/20 [==============================] - 18s 879ms/step - loss: 0.4495 - accuracy: 0.7927 - val_loss: 0.4467 - val_accuracy: 0.7960\n",
            "Epoch 40/100\n",
            "20/20 [==============================] - 18s 881ms/step - loss: 0.4540 - accuracy: 0.7893 - val_loss: 0.4733 - val_accuracy: 0.7680\n",
            "Epoch 41/100\n",
            "20/20 [==============================] - 17s 874ms/step - loss: 0.4445 - accuracy: 0.7933 - val_loss: 0.4811 - val_accuracy: 0.7500\n",
            "Epoch 42/100\n",
            "20/20 [==============================] - 17s 877ms/step - loss: 0.4669 - accuracy: 0.7736 - val_loss: 0.4614 - val_accuracy: 0.7810\n",
            "Epoch 43/100\n",
            "20/20 [==============================] - 17s 871ms/step - loss: 0.4318 - accuracy: 0.8086 - val_loss: 0.4678 - val_accuracy: 0.7900\n",
            "Epoch 44/100\n",
            "20/20 [==============================] - 17s 871ms/step - loss: 0.4258 - accuracy: 0.8051 - val_loss: 0.4525 - val_accuracy: 0.7900\n",
            "Epoch 45/100\n",
            "20/20 [==============================] - 17s 872ms/step - loss: 0.4283 - accuracy: 0.8004 - val_loss: 0.4672 - val_accuracy: 0.7720\n",
            "Epoch 46/100\n",
            "20/20 [==============================] - 17s 858ms/step - loss: 0.4320 - accuracy: 0.7942 - val_loss: 0.4563 - val_accuracy: 0.7710\n",
            "Epoch 47/100\n",
            "20/20 [==============================] - 17s 856ms/step - loss: 0.4305 - accuracy: 0.8020 - val_loss: 0.4640 - val_accuracy: 0.7770\n",
            "Epoch 48/100\n",
            "20/20 [==============================] - 17s 863ms/step - loss: 0.4733 - accuracy: 0.7728 - val_loss: 0.4659 - val_accuracy: 0.7900\n",
            "Epoch 49/100\n",
            "20/20 [==============================] - 17s 857ms/step - loss: 0.4654 - accuracy: 0.7783 - val_loss: 0.4557 - val_accuracy: 0.7730\n",
            "Epoch 50/100\n",
            "20/20 [==============================] - 17s 853ms/step - loss: 0.4058 - accuracy: 0.8143 - val_loss: 0.4580 - val_accuracy: 0.7810\n",
            "Epoch 51/100\n",
            "20/20 [==============================] - 17s 842ms/step - loss: 0.4353 - accuracy: 0.8067 - val_loss: 0.4550 - val_accuracy: 0.7880\n",
            "Epoch 52/100\n",
            "20/20 [==============================] - 17s 844ms/step - loss: 0.4174 - accuracy: 0.8007 - val_loss: 0.4426 - val_accuracy: 0.7990\n",
            "Epoch 53/100\n",
            "20/20 [==============================] - 17s 842ms/step - loss: 0.4057 - accuracy: 0.8246 - val_loss: 0.4612 - val_accuracy: 0.7880\n",
            "Epoch 54/100\n",
            "20/20 [==============================] - 17s 839ms/step - loss: 0.3896 - accuracy: 0.8308 - val_loss: 0.4576 - val_accuracy: 0.7880\n",
            "Epoch 55/100\n",
            "20/20 [==============================] - 17s 846ms/step - loss: 0.4202 - accuracy: 0.8119 - val_loss: 0.4234 - val_accuracy: 0.8110\n",
            "Epoch 56/100\n",
            "20/20 [==============================] - 17s 835ms/step - loss: 0.3788 - accuracy: 0.8343 - val_loss: 0.4470 - val_accuracy: 0.7960\n",
            "Epoch 57/100\n",
            "20/20 [==============================] - 17s 833ms/step - loss: 0.3776 - accuracy: 0.8323 - val_loss: 0.4363 - val_accuracy: 0.8020\n",
            "Epoch 58/100\n",
            "20/20 [==============================] - 17s 835ms/step - loss: 0.4042 - accuracy: 0.8237 - val_loss: 0.4503 - val_accuracy: 0.7860\n",
            "Epoch 59/100\n",
            "20/20 [==============================] - 17s 844ms/step - loss: 0.3847 - accuracy: 0.8364 - val_loss: 0.4111 - val_accuracy: 0.8100\n",
            "Epoch 60/100\n",
            "20/20 [==============================] - 17s 855ms/step - loss: 0.3734 - accuracy: 0.8217 - val_loss: 0.4435 - val_accuracy: 0.8000\n",
            "Epoch 61/100\n",
            "20/20 [==============================] - 17s 834ms/step - loss: 0.3574 - accuracy: 0.8584 - val_loss: 0.4829 - val_accuracy: 0.7850\n",
            "Epoch 62/100\n",
            "20/20 [==============================] - 17s 834ms/step - loss: 0.4089 - accuracy: 0.8167 - val_loss: 0.4273 - val_accuracy: 0.8010\n",
            "Epoch 63/100\n",
            "20/20 [==============================] - 16s 822ms/step - loss: 0.3923 - accuracy: 0.8270 - val_loss: 0.4746 - val_accuracy: 0.7880\n",
            "Epoch 64/100\n",
            "20/20 [==============================] - 17s 832ms/step - loss: 0.3854 - accuracy: 0.8193 - val_loss: 0.4130 - val_accuracy: 0.8050\n",
            "Epoch 65/100\n",
            "20/20 [==============================] - 16s 823ms/step - loss: 0.3618 - accuracy: 0.8400 - val_loss: 0.4492 - val_accuracy: 0.7960\n",
            "Epoch 66/100\n",
            "20/20 [==============================] - 16s 816ms/step - loss: 0.3822 - accuracy: 0.8329 - val_loss: 0.4733 - val_accuracy: 0.7780\n",
            "Epoch 67/100\n",
            "20/20 [==============================] - 16s 824ms/step - loss: 0.3840 - accuracy: 0.8347 - val_loss: 0.4298 - val_accuracy: 0.8050\n",
            "Epoch 68/100\n",
            "20/20 [==============================] - 16s 818ms/step - loss: 0.3628 - accuracy: 0.8303 - val_loss: 0.4096 - val_accuracy: 0.8140\n",
            "Epoch 69/100\n",
            "20/20 [==============================] - 16s 814ms/step - loss: 0.3282 - accuracy: 0.8598 - val_loss: 0.4150 - val_accuracy: 0.8170\n",
            "Epoch 70/100\n",
            "20/20 [==============================] - 16s 805ms/step - loss: 0.3351 - accuracy: 0.8562 - val_loss: 0.4162 - val_accuracy: 0.8110\n",
            "Epoch 71/100\n",
            "20/20 [==============================] - 16s 799ms/step - loss: 0.3522 - accuracy: 0.8464 - val_loss: 0.4210 - val_accuracy: 0.8130\n",
            "Epoch 72/100\n",
            "20/20 [==============================] - 16s 800ms/step - loss: 0.3260 - accuracy: 0.8473 - val_loss: 0.5074 - val_accuracy: 0.7810\n",
            "Epoch 73/100\n",
            "20/20 [==============================] - 16s 797ms/step - loss: 0.3414 - accuracy: 0.8366 - val_loss: 0.4141 - val_accuracy: 0.8310\n",
            "Epoch 74/100\n",
            "20/20 [==============================] - 16s 807ms/step - loss: 0.2926 - accuracy: 0.8743 - val_loss: 0.4213 - val_accuracy: 0.8040\n",
            "Epoch 75/100\n",
            "20/20 [==============================] - 16s 799ms/step - loss: 0.3356 - accuracy: 0.8632 - val_loss: 0.4156 - val_accuracy: 0.8170\n",
            "Epoch 76/100\n",
            "20/20 [==============================] - 16s 800ms/step - loss: 0.3439 - accuracy: 0.8477 - val_loss: 0.4448 - val_accuracy: 0.8040\n",
            "Epoch 77/100\n",
            "20/20 [==============================] - 16s 802ms/step - loss: 0.3583 - accuracy: 0.8442 - val_loss: 0.4050 - val_accuracy: 0.8290\n",
            "Epoch 78/100\n",
            "20/20 [==============================] - 16s 810ms/step - loss: 0.3488 - accuracy: 0.8482 - val_loss: 0.3915 - val_accuracy: 0.8270\n",
            "Epoch 79/100\n",
            "20/20 [==============================] - 16s 828ms/step - loss: 0.3314 - accuracy: 0.8601 - val_loss: 0.3850 - val_accuracy: 0.8310\n",
            "Epoch 80/100\n",
            "20/20 [==============================] - 17s 836ms/step - loss: 0.3135 - accuracy: 0.8709 - val_loss: 0.4590 - val_accuracy: 0.8080\n",
            "Epoch 81/100\n",
            "20/20 [==============================] - 16s 810ms/step - loss: 0.2940 - accuracy: 0.8762 - val_loss: 0.4741 - val_accuracy: 0.7920\n",
            "Epoch 82/100\n",
            "20/20 [==============================] - 16s 808ms/step - loss: 0.3428 - accuracy: 0.8511 - val_loss: 0.4578 - val_accuracy: 0.8170\n",
            "Epoch 83/100\n",
            "20/20 [==============================] - 16s 805ms/step - loss: 0.2983 - accuracy: 0.8769 - val_loss: 0.4279 - val_accuracy: 0.8190\n",
            "Epoch 84/100\n",
            "20/20 [==============================] - 16s 825ms/step - loss: 0.3042 - accuracy: 0.8626 - val_loss: 0.4119 - val_accuracy: 0.8170\n",
            "Epoch 85/100\n",
            "20/20 [==============================] - 17s 844ms/step - loss: 0.2912 - accuracy: 0.8785 - val_loss: 0.4503 - val_accuracy: 0.8050\n",
            "Epoch 86/100\n",
            "20/20 [==============================] - 17s 872ms/step - loss: 0.2887 - accuracy: 0.8679 - val_loss: 0.3965 - val_accuracy: 0.8300\n",
            "Epoch 87/100\n",
            "20/20 [==============================] - 17s 877ms/step - loss: 0.2612 - accuracy: 0.8934 - val_loss: 0.3961 - val_accuracy: 0.8220\n",
            "Epoch 88/100\n",
            "20/20 [==============================] - 17s 842ms/step - loss: 0.2727 - accuracy: 0.8864 - val_loss: 0.4120 - val_accuracy: 0.8160\n",
            "Epoch 89/100\n",
            "20/20 [==============================] - 17s 838ms/step - loss: 0.3113 - accuracy: 0.8656 - val_loss: 0.4467 - val_accuracy: 0.8300\n",
            "Epoch 90/100\n",
            "20/20 [==============================] - 16s 825ms/step - loss: 0.2667 - accuracy: 0.8855 - val_loss: 0.4369 - val_accuracy: 0.8260\n",
            "Epoch 91/100\n",
            "20/20 [==============================] - 16s 827ms/step - loss: 0.2833 - accuracy: 0.8821 - val_loss: 0.4263 - val_accuracy: 0.8200\n",
            "Epoch 92/100\n",
            "20/20 [==============================] - 16s 825ms/step - loss: 0.3165 - accuracy: 0.8691 - val_loss: 0.3983 - val_accuracy: 0.8350\n",
            "Epoch 93/100\n",
            "20/20 [==============================] - 16s 827ms/step - loss: 0.2820 - accuracy: 0.8838 - val_loss: 0.4453 - val_accuracy: 0.8080\n",
            "Epoch 94/100\n",
            "20/20 [==============================] - 17s 834ms/step - loss: 0.2561 - accuracy: 0.8907 - val_loss: 0.4402 - val_accuracy: 0.8290\n",
            "Epoch 95/100\n",
            "20/20 [==============================] - 16s 822ms/step - loss: 0.2450 - accuracy: 0.8919 - val_loss: 0.4313 - val_accuracy: 0.8380\n",
            "Epoch 96/100\n",
            "20/20 [==============================] - 16s 821ms/step - loss: 0.2591 - accuracy: 0.8908 - val_loss: 0.4247 - val_accuracy: 0.8230\n",
            "Epoch 97/100\n",
            "20/20 [==============================] - 17s 832ms/step - loss: 0.2837 - accuracy: 0.8700 - val_loss: 0.3934 - val_accuracy: 0.8480\n",
            "Epoch 98/100\n",
            "20/20 [==============================] - 16s 824ms/step - loss: 0.2353 - accuracy: 0.9047 - val_loss: 0.3787 - val_accuracy: 0.8430\n",
            "Epoch 99/100\n",
            "20/20 [==============================] - 16s 827ms/step - loss: 0.2696 - accuracy: 0.8873 - val_loss: 0.4212 - val_accuracy: 0.8310\n",
            "Epoch 100/100\n",
            "20/20 [==============================] - 16s 813ms/step - loss: 0.2675 - accuracy: 0.8881 - val_loss: 0.3994 - val_accuracy: 0.8270\n"
          ],
          "name": "stdout"
        }
      ]
    },
    {
      "cell_type": "markdown",
      "metadata": {
        "id": "ojJNteAGVrWo"
      },
      "source": [
        "### Visualizing results of the training"
      ]
    },
    {
      "cell_type": "markdown",
      "metadata": {
        "id": "LZPYT-EmVrWo"
      },
      "source": [
        "We'll now visualize the results we get after training our network."
      ]
    },
    {
      "cell_type": "code",
      "metadata": {
        "id": "8CfngybnFHQR",
        "outputId": "705e8f1f-0757-4b8f-9098-50c36178a602",
        "colab": {
          "base_uri": "https://localhost:8080/",
          "height": 499
        }
      },
      "source": [
        "acc = history.history['accuracy']\n",
        "val_acc = history.history['val_accuracy']\n",
        "\n",
        "loss = history.history['loss']\n",
        "val_loss = history.history['val_loss']\n",
        "\n",
        "epochs_range = range(epochs)\n",
        "\n",
        "plt.figure(figsize=(8, 8))\n",
        "plt.subplot(1, 2, 1)\n",
        "plt.plot(epochs_range, acc, label='Training Accuracy')\n",
        "plt.plot(epochs_range, val_acc, label='Validation Accuracy')\n",
        "plt.legend(loc='lower right')\n",
        "plt.title('Training and Validation Accuracy')\n",
        "\n",
        "plt.subplot(1, 2, 2)\n",
        "plt.plot(epochs_range, loss, label='Training Loss')\n",
        "plt.plot(epochs_range, val_loss, label='Validation Loss')\n",
        "plt.legend(loc='upper right')\n",
        "plt.title('Training and Validation Loss')\n",
        "plt.show()"
      ],
      "execution_count": 26,
      "outputs": [
        {
          "output_type": "display_data",
          "data": {
            "image/png": "[encoded data removed]",
            "text/plain": [
              "<Figure size 576x576 with 2 Axes>"
            ]
          },
          "metadata": {
            "tags": [],
            "needs_background": "light"
          }
        }
      ]
    }
  ]
}